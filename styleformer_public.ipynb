{
  "nbformat": 4,
  "nbformat_minor": 0,
  "metadata": {
    "colab": {
      "name": "styleformer-public.ipynb",
      "provenance": [],
      "collapsed_sections": [],
      "include_colab_link": true
    },
    "kernelspec": {
      "name": "python3",
      "display_name": "Python 3"
    },
    "language_info": {
      "name": "python"
    },
    "widgets": {
      "application/vnd.jupyter.widget-state+json": {
        "2864a16028824f3988853e6932eddb3e": {
          "model_module": "@jupyter-widgets/controls",
          "model_name": "HBoxModel",
          "state": {
            "_view_name": "HBoxView",
            "_dom_classes": [],
            "_model_name": "HBoxModel",
            "_view_module": "@jupyter-widgets/controls",
            "_model_module_version": "1.5.0",
            "_view_count": null,
            "_view_module_version": "1.5.0",
            "box_style": "",
            "layout": "IPY_MODEL_bca4474bc5e3414da956e681a07bd683",
            "_model_module": "@jupyter-widgets/controls",
            "children": [
              "IPY_MODEL_fba9f496ac3c4693a9d46526fc35f543",
              "IPY_MODEL_bdc6bb02002c4ccebb31fafc429bc981"
            ]
          }
        },
        "bca4474bc5e3414da956e681a07bd683": {
          "model_module": "@jupyter-widgets/base",
          "model_name": "LayoutModel",
          "state": {
            "_view_name": "LayoutView",
            "grid_template_rows": null,
            "right": null,
            "justify_content": null,
            "_view_module": "@jupyter-widgets/base",
            "overflow": null,
            "_model_module_version": "1.2.0",
            "_view_count": null,
            "flex_flow": null,
            "width": null,
            "min_width": null,
            "border": null,
            "align_items": null,
            "bottom": null,
            "_model_module": "@jupyter-widgets/base",
            "top": null,
            "grid_column": null,
            "overflow_y": null,
            "overflow_x": null,
            "grid_auto_flow": null,
            "grid_area": null,
            "grid_template_columns": null,
            "flex": null,
            "_model_name": "LayoutModel",
            "justify_items": null,
            "grid_row": null,
            "max_height": null,
            "align_content": null,
            "visibility": null,
            "align_self": null,
            "height": null,
            "min_height": null,
            "padding": null,
            "grid_auto_rows": null,
            "grid_gap": null,
            "max_width": null,
            "order": null,
            "_view_module_version": "1.2.0",
            "grid_template_areas": null,
            "object_position": null,
            "object_fit": null,
            "grid_auto_columns": null,
            "margin": null,
            "display": null,
            "left": null
          }
        },
        "fba9f496ac3c4693a9d46526fc35f543": {
          "model_module": "@jupyter-widgets/controls",
          "model_name": "FloatProgressModel",
          "state": {
            "_view_name": "ProgressView",
            "style": "IPY_MODEL_bef15eeffc084d9a9a17d448aa824411",
            "_dom_classes": [],
            "description": "Downloading: 100%",
            "_model_name": "FloatProgressModel",
            "bar_style": "success",
            "max": 908,
            "_view_module": "@jupyter-widgets/controls",
            "_model_module_version": "1.5.0",
            "value": 908,
            "_view_count": null,
            "_view_module_version": "1.5.0",
            "orientation": "horizontal",
            "min": 0,
            "description_tooltip": null,
            "_model_module": "@jupyter-widgets/controls",
            "layout": "IPY_MODEL_8586b5860e514ba48a3783d148b9165f"
          }
        },
        "bdc6bb02002c4ccebb31fafc429bc981": {
          "model_module": "@jupyter-widgets/controls",
          "model_name": "HTMLModel",
          "state": {
            "_view_name": "HTMLView",
            "style": "IPY_MODEL_1c8a32ef047745beb305ad44c6a36b94",
            "_dom_classes": [],
            "description": "",
            "_model_name": "HTMLModel",
            "placeholder": "​",
            "_view_module": "@jupyter-widgets/controls",
            "_model_module_version": "1.5.0",
            "value": " 908/908 [00:31&lt;00:00, 29.0B/s]",
            "_view_count": null,
            "_view_module_version": "1.5.0",
            "description_tooltip": null,
            "_model_module": "@jupyter-widgets/controls",
            "layout": "IPY_MODEL_9d570199868248de876f99268f46ee3b"
          }
        },
        "bef15eeffc084d9a9a17d448aa824411": {
          "model_module": "@jupyter-widgets/controls",
          "model_name": "ProgressStyleModel",
          "state": {
            "_view_name": "StyleView",
            "_model_name": "ProgressStyleModel",
            "description_width": "initial",
            "_view_module": "@jupyter-widgets/base",
            "_model_module_version": "1.5.0",
            "_view_count": null,
            "_view_module_version": "1.2.0",
            "bar_color": null,
            "_model_module": "@jupyter-widgets/controls"
          }
        },
        "8586b5860e514ba48a3783d148b9165f": {
          "model_module": "@jupyter-widgets/base",
          "model_name": "LayoutModel",
          "state": {
            "_view_name": "LayoutView",
            "grid_template_rows": null,
            "right": null,
            "justify_content": null,
            "_view_module": "@jupyter-widgets/base",
            "overflow": null,
            "_model_module_version": "1.2.0",
            "_view_count": null,
            "flex_flow": null,
            "width": null,
            "min_width": null,
            "border": null,
            "align_items": null,
            "bottom": null,
            "_model_module": "@jupyter-widgets/base",
            "top": null,
            "grid_column": null,
            "overflow_y": null,
            "overflow_x": null,
            "grid_auto_flow": null,
            "grid_area": null,
            "grid_template_columns": null,
            "flex": null,
            "_model_name": "LayoutModel",
            "justify_items": null,
            "grid_row": null,
            "max_height": null,
            "align_content": null,
            "visibility": null,
            "align_self": null,
            "height": null,
            "min_height": null,
            "padding": null,
            "grid_auto_rows": null,
            "grid_gap": null,
            "max_width": null,
            "order": null,
            "_view_module_version": "1.2.0",
            "grid_template_areas": null,
            "object_position": null,
            "object_fit": null,
            "grid_auto_columns": null,
            "margin": null,
            "display": null,
            "left": null
          }
        },
        "1c8a32ef047745beb305ad44c6a36b94": {
          "model_module": "@jupyter-widgets/controls",
          "model_name": "DescriptionStyleModel",
          "state": {
            "_view_name": "StyleView",
            "_model_name": "DescriptionStyleModel",
            "description_width": "",
            "_view_module": "@jupyter-widgets/base",
            "_model_module_version": "1.5.0",
            "_view_count": null,
            "_view_module_version": "1.2.0",
            "_model_module": "@jupyter-widgets/controls"
          }
        },
        "9d570199868248de876f99268f46ee3b": {
          "model_module": "@jupyter-widgets/base",
          "model_name": "LayoutModel",
          "state": {
            "_view_name": "LayoutView",
            "grid_template_rows": null,
            "right": null,
            "justify_content": null,
            "_view_module": "@jupyter-widgets/base",
            "overflow": null,
            "_model_module_version": "1.2.0",
            "_view_count": null,
            "flex_flow": null,
            "width": null,
            "min_width": null,
            "border": null,
            "align_items": null,
            "bottom": null,
            "_model_module": "@jupyter-widgets/base",
            "top": null,
            "grid_column": null,
            "overflow_y": null,
            "overflow_x": null,
            "grid_auto_flow": null,
            "grid_area": null,
            "grid_template_columns": null,
            "flex": null,
            "_model_name": "LayoutModel",
            "justify_items": null,
            "grid_row": null,
            "max_height": null,
            "align_content": null,
            "visibility": null,
            "align_self": null,
            "height": null,
            "min_height": null,
            "padding": null,
            "grid_auto_rows": null,
            "grid_gap": null,
            "max_width": null,
            "order": null,
            "_view_module_version": "1.2.0",
            "grid_template_areas": null,
            "object_position": null,
            "object_fit": null,
            "grid_auto_columns": null,
            "margin": null,
            "display": null,
            "left": null
          }
        },
        "684988ab863e4c03ab3f9fbd731685dd": {
          "model_module": "@jupyter-widgets/controls",
          "model_name": "HBoxModel",
          "state": {
            "_view_name": "HBoxView",
            "_dom_classes": [],
            "_model_name": "HBoxModel",
            "_view_module": "@jupyter-widgets/controls",
            "_model_module_version": "1.5.0",
            "_view_count": null,
            "_view_module_version": "1.5.0",
            "box_style": "",
            "layout": "IPY_MODEL_6c93d432b76c42e6bc9a35d65c176b1d",
            "_model_module": "@jupyter-widgets/controls",
            "children": [
              "IPY_MODEL_8ce930f8c95f405c8b63a24cb03c5839",
              "IPY_MODEL_c343bcc55d13409f9572c118bb50ebd3"
            ]
          }
        },
        "6c93d432b76c42e6bc9a35d65c176b1d": {
          "model_module": "@jupyter-widgets/base",
          "model_name": "LayoutModel",
          "state": {
            "_view_name": "LayoutView",
            "grid_template_rows": null,
            "right": null,
            "justify_content": null,
            "_view_module": "@jupyter-widgets/base",
            "overflow": null,
            "_model_module_version": "1.2.0",
            "_view_count": null,
            "flex_flow": null,
            "width": null,
            "min_width": null,
            "border": null,
            "align_items": null,
            "bottom": null,
            "_model_module": "@jupyter-widgets/base",
            "top": null,
            "grid_column": null,
            "overflow_y": null,
            "overflow_x": null,
            "grid_auto_flow": null,
            "grid_area": null,
            "grid_template_columns": null,
            "flex": null,
            "_model_name": "LayoutModel",
            "justify_items": null,
            "grid_row": null,
            "max_height": null,
            "align_content": null,
            "visibility": null,
            "align_self": null,
            "height": null,
            "min_height": null,
            "padding": null,
            "grid_auto_rows": null,
            "grid_gap": null,
            "max_width": null,
            "order": null,
            "_view_module_version": "1.2.0",
            "grid_template_areas": null,
            "object_position": null,
            "object_fit": null,
            "grid_auto_columns": null,
            "margin": null,
            "display": null,
            "left": null
          }
        },
        "8ce930f8c95f405c8b63a24cb03c5839": {
          "model_module": "@jupyter-widgets/controls",
          "model_name": "FloatProgressModel",
          "state": {
            "_view_name": "ProgressView",
            "style": "IPY_MODEL_d41427b35498438ba584ad04b86716fa",
            "_dom_classes": [],
            "description": "Downloading: 100%",
            "_model_name": "FloatProgressModel",
            "bar_style": "success",
            "max": 1629486723,
            "_view_module": "@jupyter-widgets/controls",
            "_model_module_version": "1.5.0",
            "value": 1629486723,
            "_view_count": null,
            "_view_module_version": "1.5.0",
            "orientation": "horizontal",
            "min": 0,
            "description_tooltip": null,
            "_model_module": "@jupyter-widgets/controls",
            "layout": "IPY_MODEL_ffe49471f56947cba4c8abd87c622dd9"
          }
        },
        "c343bcc55d13409f9572c118bb50ebd3": {
          "model_module": "@jupyter-widgets/controls",
          "model_name": "HTMLModel",
          "state": {
            "_view_name": "HTMLView",
            "style": "IPY_MODEL_8761806086c041c2826199baaf7b8b07",
            "_dom_classes": [],
            "description": "",
            "_model_name": "HTMLModel",
            "placeholder": "​",
            "_view_module": "@jupyter-widgets/controls",
            "_model_module_version": "1.5.0",
            "value": " 1.63G/1.63G [00:30&lt;00:00, 53.0MB/s]",
            "_view_count": null,
            "_view_module_version": "1.5.0",
            "description_tooltip": null,
            "_model_module": "@jupyter-widgets/controls",
            "layout": "IPY_MODEL_7bfdfd9b6d25445eb67547bdd490daad"
          }
        },
        "d41427b35498438ba584ad04b86716fa": {
          "model_module": "@jupyter-widgets/controls",
          "model_name": "ProgressStyleModel",
          "state": {
            "_view_name": "StyleView",
            "_model_name": "ProgressStyleModel",
            "description_width": "initial",
            "_view_module": "@jupyter-widgets/base",
            "_model_module_version": "1.5.0",
            "_view_count": null,
            "_view_module_version": "1.2.0",
            "bar_color": null,
            "_model_module": "@jupyter-widgets/controls"
          }
        },
        "ffe49471f56947cba4c8abd87c622dd9": {
          "model_module": "@jupyter-widgets/base",
          "model_name": "LayoutModel",
          "state": {
            "_view_name": "LayoutView",
            "grid_template_rows": null,
            "right": null,
            "justify_content": null,
            "_view_module": "@jupyter-widgets/base",
            "overflow": null,
            "_model_module_version": "1.2.0",
            "_view_count": null,
            "flex_flow": null,
            "width": null,
            "min_width": null,
            "border": null,
            "align_items": null,
            "bottom": null,
            "_model_module": "@jupyter-widgets/base",
            "top": null,
            "grid_column": null,
            "overflow_y": null,
            "overflow_x": null,
            "grid_auto_flow": null,
            "grid_area": null,
            "grid_template_columns": null,
            "flex": null,
            "_model_name": "LayoutModel",
            "justify_items": null,
            "grid_row": null,
            "max_height": null,
            "align_content": null,
            "visibility": null,
            "align_self": null,
            "height": null,
            "min_height": null,
            "padding": null,
            "grid_auto_rows": null,
            "grid_gap": null,
            "max_width": null,
            "order": null,
            "_view_module_version": "1.2.0",
            "grid_template_areas": null,
            "object_position": null,
            "object_fit": null,
            "grid_auto_columns": null,
            "margin": null,
            "display": null,
            "left": null
          }
        },
        "8761806086c041c2826199baaf7b8b07": {
          "model_module": "@jupyter-widgets/controls",
          "model_name": "DescriptionStyleModel",
          "state": {
            "_view_name": "StyleView",
            "_model_name": "DescriptionStyleModel",
            "description_width": "",
            "_view_module": "@jupyter-widgets/base",
            "_model_module_version": "1.5.0",
            "_view_count": null,
            "_view_module_version": "1.2.0",
            "_model_module": "@jupyter-widgets/controls"
          }
        },
        "7bfdfd9b6d25445eb67547bdd490daad": {
          "model_module": "@jupyter-widgets/base",
          "model_name": "LayoutModel",
          "state": {
            "_view_name": "LayoutView",
            "grid_template_rows": null,
            "right": null,
            "justify_content": null,
            "_view_module": "@jupyter-widgets/base",
            "overflow": null,
            "_model_module_version": "1.2.0",
            "_view_count": null,
            "flex_flow": null,
            "width": null,
            "min_width": null,
            "border": null,
            "align_items": null,
            "bottom": null,
            "_model_module": "@jupyter-widgets/base",
            "top": null,
            "grid_column": null,
            "overflow_y": null,
            "overflow_x": null,
            "grid_auto_flow": null,
            "grid_area": null,
            "grid_template_columns": null,
            "flex": null,
            "_model_name": "LayoutModel",
            "justify_items": null,
            "grid_row": null,
            "max_height": null,
            "align_content": null,
            "visibility": null,
            "align_self": null,
            "height": null,
            "min_height": null,
            "padding": null,
            "grid_auto_rows": null,
            "grid_gap": null,
            "max_width": null,
            "order": null,
            "_view_module_version": "1.2.0",
            "grid_template_areas": null,
            "object_position": null,
            "object_fit": null,
            "grid_auto_columns": null,
            "margin": null,
            "display": null,
            "left": null
          }
        },
        "ed120fd19e3544aeb63eac66023c004e": {
          "model_module": "@jupyter-widgets/controls",
          "model_name": "HBoxModel",
          "state": {
            "_view_name": "HBoxView",
            "_dom_classes": [],
            "_model_name": "HBoxModel",
            "_view_module": "@jupyter-widgets/controls",
            "_model_module_version": "1.5.0",
            "_view_count": null,
            "_view_module_version": "1.5.0",
            "box_style": "",
            "layout": "IPY_MODEL_c66e75a03cad49a2b77ab5f4e7c83afb",
            "_model_module": "@jupyter-widgets/controls",
            "children": [
              "IPY_MODEL_1236a2accd374c2894989d2fd43a6640",
              "IPY_MODEL_e643056b7c024804a084f4e339b74368"
            ]
          }
        },
        "c66e75a03cad49a2b77ab5f4e7c83afb": {
          "model_module": "@jupyter-widgets/base",
          "model_name": "LayoutModel",
          "state": {
            "_view_name": "LayoutView",
            "grid_template_rows": null,
            "right": null,
            "justify_content": null,
            "_view_module": "@jupyter-widgets/base",
            "overflow": null,
            "_model_module_version": "1.2.0",
            "_view_count": null,
            "flex_flow": null,
            "width": null,
            "min_width": null,
            "border": null,
            "align_items": null,
            "bottom": null,
            "_model_module": "@jupyter-widgets/base",
            "top": null,
            "grid_column": null,
            "overflow_y": null,
            "overflow_x": null,
            "grid_auto_flow": null,
            "grid_area": null,
            "grid_template_columns": null,
            "flex": null,
            "_model_name": "LayoutModel",
            "justify_items": null,
            "grid_row": null,
            "max_height": null,
            "align_content": null,
            "visibility": null,
            "align_self": null,
            "height": null,
            "min_height": null,
            "padding": null,
            "grid_auto_rows": null,
            "grid_gap": null,
            "max_width": null,
            "order": null,
            "_view_module_version": "1.2.0",
            "grid_template_areas": null,
            "object_position": null,
            "object_fit": null,
            "grid_auto_columns": null,
            "margin": null,
            "display": null,
            "left": null
          }
        },
        "1236a2accd374c2894989d2fd43a6640": {
          "model_module": "@jupyter-widgets/controls",
          "model_name": "FloatProgressModel",
          "state": {
            "_view_name": "ProgressView",
            "style": "IPY_MODEL_348be3257930407d998d5eddeaf3d3d7",
            "_dom_classes": [],
            "description": "Downloading: 100%",
            "_model_name": "FloatProgressModel",
            "bar_style": "success",
            "max": 26,
            "_view_module": "@jupyter-widgets/controls",
            "_model_module_version": "1.5.0",
            "value": 26,
            "_view_count": null,
            "_view_module_version": "1.5.0",
            "orientation": "horizontal",
            "min": 0,
            "description_tooltip": null,
            "_model_module": "@jupyter-widgets/controls",
            "layout": "IPY_MODEL_edc446612d124b74bd3d0256d527fa2b"
          }
        },
        "e643056b7c024804a084f4e339b74368": {
          "model_module": "@jupyter-widgets/controls",
          "model_name": "HTMLModel",
          "state": {
            "_view_name": "HTMLView",
            "style": "IPY_MODEL_096489c11dcb4a6880bca7c8c768461e",
            "_dom_classes": [],
            "description": "",
            "_model_name": "HTMLModel",
            "placeholder": "​",
            "_view_module": "@jupyter-widgets/controls",
            "_model_module_version": "1.5.0",
            "value": " 26.0/26.0 [00:25&lt;00:00, 1.01B/s]",
            "_view_count": null,
            "_view_module_version": "1.5.0",
            "description_tooltip": null,
            "_model_module": "@jupyter-widgets/controls",
            "layout": "IPY_MODEL_78e8c06e298f4273bfc136c856b8fdda"
          }
        },
        "348be3257930407d998d5eddeaf3d3d7": {
          "model_module": "@jupyter-widgets/controls",
          "model_name": "ProgressStyleModel",
          "state": {
            "_view_name": "StyleView",
            "_model_name": "ProgressStyleModel",
            "description_width": "initial",
            "_view_module": "@jupyter-widgets/base",
            "_model_module_version": "1.5.0",
            "_view_count": null,
            "_view_module_version": "1.2.0",
            "bar_color": null,
            "_model_module": "@jupyter-widgets/controls"
          }
        },
        "edc446612d124b74bd3d0256d527fa2b": {
          "model_module": "@jupyter-widgets/base",
          "model_name": "LayoutModel",
          "state": {
            "_view_name": "LayoutView",
            "grid_template_rows": null,
            "right": null,
            "justify_content": null,
            "_view_module": "@jupyter-widgets/base",
            "overflow": null,
            "_model_module_version": "1.2.0",
            "_view_count": null,
            "flex_flow": null,
            "width": null,
            "min_width": null,
            "border": null,
            "align_items": null,
            "bottom": null,
            "_model_module": "@jupyter-widgets/base",
            "top": null,
            "grid_column": null,
            "overflow_y": null,
            "overflow_x": null,
            "grid_auto_flow": null,
            "grid_area": null,
            "grid_template_columns": null,
            "flex": null,
            "_model_name": "LayoutModel",
            "justify_items": null,
            "grid_row": null,
            "max_height": null,
            "align_content": null,
            "visibility": null,
            "align_self": null,
            "height": null,
            "min_height": null,
            "padding": null,
            "grid_auto_rows": null,
            "grid_gap": null,
            "max_width": null,
            "order": null,
            "_view_module_version": "1.2.0",
            "grid_template_areas": null,
            "object_position": null,
            "object_fit": null,
            "grid_auto_columns": null,
            "margin": null,
            "display": null,
            "left": null
          }
        },
        "096489c11dcb4a6880bca7c8c768461e": {
          "model_module": "@jupyter-widgets/controls",
          "model_name": "DescriptionStyleModel",
          "state": {
            "_view_name": "StyleView",
            "_model_name": "DescriptionStyleModel",
            "description_width": "",
            "_view_module": "@jupyter-widgets/base",
            "_model_module_version": "1.5.0",
            "_view_count": null,
            "_view_module_version": "1.2.0",
            "_model_module": "@jupyter-widgets/controls"
          }
        },
        "78e8c06e298f4273bfc136c856b8fdda": {
          "model_module": "@jupyter-widgets/base",
          "model_name": "LayoutModel",
          "state": {
            "_view_name": "LayoutView",
            "grid_template_rows": null,
            "right": null,
            "justify_content": null,
            "_view_module": "@jupyter-widgets/base",
            "overflow": null,
            "_model_module_version": "1.2.0",
            "_view_count": null,
            "flex_flow": null,
            "width": null,
            "min_width": null,
            "border": null,
            "align_items": null,
            "bottom": null,
            "_model_module": "@jupyter-widgets/base",
            "top": null,
            "grid_column": null,
            "overflow_y": null,
            "overflow_x": null,
            "grid_auto_flow": null,
            "grid_area": null,
            "grid_template_columns": null,
            "flex": null,
            "_model_name": "LayoutModel",
            "justify_items": null,
            "grid_row": null,
            "max_height": null,
            "align_content": null,
            "visibility": null,
            "align_self": null,
            "height": null,
            "min_height": null,
            "padding": null,
            "grid_auto_rows": null,
            "grid_gap": null,
            "max_width": null,
            "order": null,
            "_view_module_version": "1.2.0",
            "grid_template_areas": null,
            "object_position": null,
            "object_fit": null,
            "grid_auto_columns": null,
            "margin": null,
            "display": null,
            "left": null
          }
        },
        "f6a6dc913cd44260911ee5f042103949": {
          "model_module": "@jupyter-widgets/controls",
          "model_name": "HBoxModel",
          "state": {
            "_view_name": "HBoxView",
            "_dom_classes": [],
            "_model_name": "HBoxModel",
            "_view_module": "@jupyter-widgets/controls",
            "_model_module_version": "1.5.0",
            "_view_count": null,
            "_view_module_version": "1.5.0",
            "box_style": "",
            "layout": "IPY_MODEL_9843d6dcfe0a44f2be5c672de8bf56f2",
            "_model_module": "@jupyter-widgets/controls",
            "children": [
              "IPY_MODEL_b6cca1ba526442b486061a4c24a3b183",
              "IPY_MODEL_cb455e3a05c94b1199387713af08085b"
            ]
          }
        },
        "9843d6dcfe0a44f2be5c672de8bf56f2": {
          "model_module": "@jupyter-widgets/base",
          "model_name": "LayoutModel",
          "state": {
            "_view_name": "LayoutView",
            "grid_template_rows": null,
            "right": null,
            "justify_content": null,
            "_view_module": "@jupyter-widgets/base",
            "overflow": null,
            "_model_module_version": "1.2.0",
            "_view_count": null,
            "flex_flow": null,
            "width": null,
            "min_width": null,
            "border": null,
            "align_items": null,
            "bottom": null,
            "_model_module": "@jupyter-widgets/base",
            "top": null,
            "grid_column": null,
            "overflow_y": null,
            "overflow_x": null,
            "grid_auto_flow": null,
            "grid_area": null,
            "grid_template_columns": null,
            "flex": null,
            "_model_name": "LayoutModel",
            "justify_items": null,
            "grid_row": null,
            "max_height": null,
            "align_content": null,
            "visibility": null,
            "align_self": null,
            "height": null,
            "min_height": null,
            "padding": null,
            "grid_auto_rows": null,
            "grid_gap": null,
            "max_width": null,
            "order": null,
            "_view_module_version": "1.2.0",
            "grid_template_areas": null,
            "object_position": null,
            "object_fit": null,
            "grid_auto_columns": null,
            "margin": null,
            "display": null,
            "left": null
          }
        },
        "b6cca1ba526442b486061a4c24a3b183": {
          "model_module": "@jupyter-widgets/controls",
          "model_name": "FloatProgressModel",
          "state": {
            "_view_name": "ProgressView",
            "style": "IPY_MODEL_2c1a5c70f44d4bfabfccd8fb41b5cb33",
            "_dom_classes": [],
            "description": "Downloading: 100%",
            "_model_name": "FloatProgressModel",
            "bar_style": "success",
            "max": 898822,
            "_view_module": "@jupyter-widgets/controls",
            "_model_module_version": "1.5.0",
            "value": 898822,
            "_view_count": null,
            "_view_module_version": "1.5.0",
            "orientation": "horizontal",
            "min": 0,
            "description_tooltip": null,
            "_model_module": "@jupyter-widgets/controls",
            "layout": "IPY_MODEL_e2930bbbce98472bb53d394ea2cb7f0a"
          }
        },
        "cb455e3a05c94b1199387713af08085b": {
          "model_module": "@jupyter-widgets/controls",
          "model_name": "HTMLModel",
          "state": {
            "_view_name": "HTMLView",
            "style": "IPY_MODEL_3058e24b2c7747db8ba71aecf556c559",
            "_dom_classes": [],
            "description": "",
            "_model_name": "HTMLModel",
            "placeholder": "​",
            "_view_module": "@jupyter-widgets/controls",
            "_model_module_version": "1.5.0",
            "value": " 899k/899k [00:00&lt;00:00, 1.09MB/s]",
            "_view_count": null,
            "_view_module_version": "1.5.0",
            "description_tooltip": null,
            "_model_module": "@jupyter-widgets/controls",
            "layout": "IPY_MODEL_8e6f050b64334fa4ad03cf1b1449b732"
          }
        },
        "2c1a5c70f44d4bfabfccd8fb41b5cb33": {
          "model_module": "@jupyter-widgets/controls",
          "model_name": "ProgressStyleModel",
          "state": {
            "_view_name": "StyleView",
            "_model_name": "ProgressStyleModel",
            "description_width": "initial",
            "_view_module": "@jupyter-widgets/base",
            "_model_module_version": "1.5.0",
            "_view_count": null,
            "_view_module_version": "1.2.0",
            "bar_color": null,
            "_model_module": "@jupyter-widgets/controls"
          }
        },
        "e2930bbbce98472bb53d394ea2cb7f0a": {
          "model_module": "@jupyter-widgets/base",
          "model_name": "LayoutModel",
          "state": {
            "_view_name": "LayoutView",
            "grid_template_rows": null,
            "right": null,
            "justify_content": null,
            "_view_module": "@jupyter-widgets/base",
            "overflow": null,
            "_model_module_version": "1.2.0",
            "_view_count": null,
            "flex_flow": null,
            "width": null,
            "min_width": null,
            "border": null,
            "align_items": null,
            "bottom": null,
            "_model_module": "@jupyter-widgets/base",
            "top": null,
            "grid_column": null,
            "overflow_y": null,
            "overflow_x": null,
            "grid_auto_flow": null,
            "grid_area": null,
            "grid_template_columns": null,
            "flex": null,
            "_model_name": "LayoutModel",
            "justify_items": null,
            "grid_row": null,
            "max_height": null,
            "align_content": null,
            "visibility": null,
            "align_self": null,
            "height": null,
            "min_height": null,
            "padding": null,
            "grid_auto_rows": null,
            "grid_gap": null,
            "max_width": null,
            "order": null,
            "_view_module_version": "1.2.0",
            "grid_template_areas": null,
            "object_position": null,
            "object_fit": null,
            "grid_auto_columns": null,
            "margin": null,
            "display": null,
            "left": null
          }
        },
        "3058e24b2c7747db8ba71aecf556c559": {
          "model_module": "@jupyter-widgets/controls",
          "model_name": "DescriptionStyleModel",
          "state": {
            "_view_name": "StyleView",
            "_model_name": "DescriptionStyleModel",
            "description_width": "",
            "_view_module": "@jupyter-widgets/base",
            "_model_module_version": "1.5.0",
            "_view_count": null,
            "_view_module_version": "1.2.0",
            "_model_module": "@jupyter-widgets/controls"
          }
        },
        "8e6f050b64334fa4ad03cf1b1449b732": {
          "model_module": "@jupyter-widgets/base",
          "model_name": "LayoutModel",
          "state": {
            "_view_name": "LayoutView",
            "grid_template_rows": null,
            "right": null,
            "justify_content": null,
            "_view_module": "@jupyter-widgets/base",
            "overflow": null,
            "_model_module_version": "1.2.0",
            "_view_count": null,
            "flex_flow": null,
            "width": null,
            "min_width": null,
            "border": null,
            "align_items": null,
            "bottom": null,
            "_model_module": "@jupyter-widgets/base",
            "top": null,
            "grid_column": null,
            "overflow_y": null,
            "overflow_x": null,
            "grid_auto_flow": null,
            "grid_area": null,
            "grid_template_columns": null,
            "flex": null,
            "_model_name": "LayoutModel",
            "justify_items": null,
            "grid_row": null,
            "max_height": null,
            "align_content": null,
            "visibility": null,
            "align_self": null,
            "height": null,
            "min_height": null,
            "padding": null,
            "grid_auto_rows": null,
            "grid_gap": null,
            "max_width": null,
            "order": null,
            "_view_module_version": "1.2.0",
            "grid_template_areas": null,
            "object_position": null,
            "object_fit": null,
            "grid_auto_columns": null,
            "margin": null,
            "display": null,
            "left": null
          }
        },
        "70162e3e8c9c4416a24a11f11e1c0c35": {
          "model_module": "@jupyter-widgets/controls",
          "model_name": "HBoxModel",
          "state": {
            "_view_name": "HBoxView",
            "_dom_classes": [],
            "_model_name": "HBoxModel",
            "_view_module": "@jupyter-widgets/controls",
            "_model_module_version": "1.5.0",
            "_view_count": null,
            "_view_module_version": "1.5.0",
            "box_style": "",
            "layout": "IPY_MODEL_753e961936854367997f1deca733bcb5",
            "_model_module": "@jupyter-widgets/controls",
            "children": [
              "IPY_MODEL_5bca7888d38f4131b51e83abb6d7273d",
              "IPY_MODEL_b4d5c7d44349471cb9abb84691334448"
            ]
          }
        },
        "753e961936854367997f1deca733bcb5": {
          "model_module": "@jupyter-widgets/base",
          "model_name": "LayoutModel",
          "state": {
            "_view_name": "LayoutView",
            "grid_template_rows": null,
            "right": null,
            "justify_content": null,
            "_view_module": "@jupyter-widgets/base",
            "overflow": null,
            "_model_module_version": "1.2.0",
            "_view_count": null,
            "flex_flow": null,
            "width": null,
            "min_width": null,
            "border": null,
            "align_items": null,
            "bottom": null,
            "_model_module": "@jupyter-widgets/base",
            "top": null,
            "grid_column": null,
            "overflow_y": null,
            "overflow_x": null,
            "grid_auto_flow": null,
            "grid_area": null,
            "grid_template_columns": null,
            "flex": null,
            "_model_name": "LayoutModel",
            "justify_items": null,
            "grid_row": null,
            "max_height": null,
            "align_content": null,
            "visibility": null,
            "align_self": null,
            "height": null,
            "min_height": null,
            "padding": null,
            "grid_auto_rows": null,
            "grid_gap": null,
            "max_width": null,
            "order": null,
            "_view_module_version": "1.2.0",
            "grid_template_areas": null,
            "object_position": null,
            "object_fit": null,
            "grid_auto_columns": null,
            "margin": null,
            "display": null,
            "left": null
          }
        },
        "5bca7888d38f4131b51e83abb6d7273d": {
          "model_module": "@jupyter-widgets/controls",
          "model_name": "FloatProgressModel",
          "state": {
            "_view_name": "ProgressView",
            "style": "IPY_MODEL_50d744fac6cc4af086b01579267a93cc",
            "_dom_classes": [],
            "description": "Downloading: 100%",
            "_model_name": "FloatProgressModel",
            "bar_style": "success",
            "max": 456318,
            "_view_module": "@jupyter-widgets/controls",
            "_model_module_version": "1.5.0",
            "value": 456318,
            "_view_count": null,
            "_view_module_version": "1.5.0",
            "orientation": "horizontal",
            "min": 0,
            "description_tooltip": null,
            "_model_module": "@jupyter-widgets/controls",
            "layout": "IPY_MODEL_60a403d74770480881e01883a67fa32d"
          }
        },
        "b4d5c7d44349471cb9abb84691334448": {
          "model_module": "@jupyter-widgets/controls",
          "model_name": "HTMLModel",
          "state": {
            "_view_name": "HTMLView",
            "style": "IPY_MODEL_db63016f4268465386a848cd09a91873",
            "_dom_classes": [],
            "description": "",
            "_model_name": "HTMLModel",
            "placeholder": "​",
            "_view_module": "@jupyter-widgets/controls",
            "_model_module_version": "1.5.0",
            "value": " 456k/456k [00:23&lt;00:00, 19.2kB/s]",
            "_view_count": null,
            "_view_module_version": "1.5.0",
            "description_tooltip": null,
            "_model_module": "@jupyter-widgets/controls",
            "layout": "IPY_MODEL_767f364122a0462db2908a1152f6389e"
          }
        },
        "50d744fac6cc4af086b01579267a93cc": {
          "model_module": "@jupyter-widgets/controls",
          "model_name": "ProgressStyleModel",
          "state": {
            "_view_name": "StyleView",
            "_model_name": "ProgressStyleModel",
            "description_width": "initial",
            "_view_module": "@jupyter-widgets/base",
            "_model_module_version": "1.5.0",
            "_view_count": null,
            "_view_module_version": "1.2.0",
            "bar_color": null,
            "_model_module": "@jupyter-widgets/controls"
          }
        },
        "60a403d74770480881e01883a67fa32d": {
          "model_module": "@jupyter-widgets/base",
          "model_name": "LayoutModel",
          "state": {
            "_view_name": "LayoutView",
            "grid_template_rows": null,
            "right": null,
            "justify_content": null,
            "_view_module": "@jupyter-widgets/base",
            "overflow": null,
            "_model_module_version": "1.2.0",
            "_view_count": null,
            "flex_flow": null,
            "width": null,
            "min_width": null,
            "border": null,
            "align_items": null,
            "bottom": null,
            "_model_module": "@jupyter-widgets/base",
            "top": null,
            "grid_column": null,
            "overflow_y": null,
            "overflow_x": null,
            "grid_auto_flow": null,
            "grid_area": null,
            "grid_template_columns": null,
            "flex": null,
            "_model_name": "LayoutModel",
            "justify_items": null,
            "grid_row": null,
            "max_height": null,
            "align_content": null,
            "visibility": null,
            "align_self": null,
            "height": null,
            "min_height": null,
            "padding": null,
            "grid_auto_rows": null,
            "grid_gap": null,
            "max_width": null,
            "order": null,
            "_view_module_version": "1.2.0",
            "grid_template_areas": null,
            "object_position": null,
            "object_fit": null,
            "grid_auto_columns": null,
            "margin": null,
            "display": null,
            "left": null
          }
        },
        "db63016f4268465386a848cd09a91873": {
          "model_module": "@jupyter-widgets/controls",
          "model_name": "DescriptionStyleModel",
          "state": {
            "_view_name": "StyleView",
            "_model_name": "DescriptionStyleModel",
            "description_width": "",
            "_view_module": "@jupyter-widgets/base",
            "_model_module_version": "1.5.0",
            "_view_count": null,
            "_view_module_version": "1.2.0",
            "_model_module": "@jupyter-widgets/controls"
          }
        },
        "767f364122a0462db2908a1152f6389e": {
          "model_module": "@jupyter-widgets/base",
          "model_name": "LayoutModel",
          "state": {
            "_view_name": "LayoutView",
            "grid_template_rows": null,
            "right": null,
            "justify_content": null,
            "_view_module": "@jupyter-widgets/base",
            "overflow": null,
            "_model_module_version": "1.2.0",
            "_view_count": null,
            "flex_flow": null,
            "width": null,
            "min_width": null,
            "border": null,
            "align_items": null,
            "bottom": null,
            "_model_module": "@jupyter-widgets/base",
            "top": null,
            "grid_column": null,
            "overflow_y": null,
            "overflow_x": null,
            "grid_auto_flow": null,
            "grid_area": null,
            "grid_template_columns": null,
            "flex": null,
            "_model_name": "LayoutModel",
            "justify_items": null,
            "grid_row": null,
            "max_height": null,
            "align_content": null,
            "visibility": null,
            "align_self": null,
            "height": null,
            "min_height": null,
            "padding": null,
            "grid_auto_rows": null,
            "grid_gap": null,
            "max_width": null,
            "order": null,
            "_view_module_version": "1.2.0",
            "grid_template_areas": null,
            "object_position": null,
            "object_fit": null,
            "grid_auto_columns": null,
            "margin": null,
            "display": null,
            "left": null
          }
        },
        "54e830a702a04a73bef40624d586c260": {
          "model_module": "@jupyter-widgets/controls",
          "model_name": "HBoxModel",
          "state": {
            "_view_name": "HBoxView",
            "_dom_classes": [],
            "_model_name": "HBoxModel",
            "_view_module": "@jupyter-widgets/controls",
            "_model_module_version": "1.5.0",
            "_view_count": null,
            "_view_module_version": "1.5.0",
            "box_style": "",
            "layout": "IPY_MODEL_1652160c55c94d979ca341df06fcd532",
            "_model_module": "@jupyter-widgets/controls",
            "children": [
              "IPY_MODEL_058cedee78384bbc80a609b559a10974",
              "IPY_MODEL_39efd8739deb49ab9be0cefcd4e68b06"
            ]
          }
        },
        "1652160c55c94d979ca341df06fcd532": {
          "model_module": "@jupyter-widgets/base",
          "model_name": "LayoutModel",
          "state": {
            "_view_name": "LayoutView",
            "grid_template_rows": null,
            "right": null,
            "justify_content": null,
            "_view_module": "@jupyter-widgets/base",
            "overflow": null,
            "_model_module_version": "1.2.0",
            "_view_count": null,
            "flex_flow": null,
            "width": null,
            "min_width": null,
            "border": null,
            "align_items": null,
            "bottom": null,
            "_model_module": "@jupyter-widgets/base",
            "top": null,
            "grid_column": null,
            "overflow_y": null,
            "overflow_x": null,
            "grid_auto_flow": null,
            "grid_area": null,
            "grid_template_columns": null,
            "flex": null,
            "_model_name": "LayoutModel",
            "justify_items": null,
            "grid_row": null,
            "max_height": null,
            "align_content": null,
            "visibility": null,
            "align_self": null,
            "height": null,
            "min_height": null,
            "padding": null,
            "grid_auto_rows": null,
            "grid_gap": null,
            "max_width": null,
            "order": null,
            "_view_module_version": "1.2.0",
            "grid_template_areas": null,
            "object_position": null,
            "object_fit": null,
            "grid_auto_columns": null,
            "margin": null,
            "display": null,
            "left": null
          }
        },
        "058cedee78384bbc80a609b559a10974": {
          "model_module": "@jupyter-widgets/controls",
          "model_name": "FloatProgressModel",
          "state": {
            "_view_name": "ProgressView",
            "style": "IPY_MODEL_2765743663b84607b591ce4986c14b20",
            "_dom_classes": [],
            "description": "Downloading: 100%",
            "_model_name": "FloatProgressModel",
            "bar_style": "success",
            "max": 1355863,
            "_view_module": "@jupyter-widgets/controls",
            "_model_module_version": "1.5.0",
            "value": 1355863,
            "_view_count": null,
            "_view_module_version": "1.5.0",
            "orientation": "horizontal",
            "min": 0,
            "description_tooltip": null,
            "_model_module": "@jupyter-widgets/controls",
            "layout": "IPY_MODEL_296aefcf46a34783b9141d0c94dc1388"
          }
        },
        "39efd8739deb49ab9be0cefcd4e68b06": {
          "model_module": "@jupyter-widgets/controls",
          "model_name": "HTMLModel",
          "state": {
            "_view_name": "HTMLView",
            "style": "IPY_MODEL_8ac9c5a11a48483ba74675ee4558cb44",
            "_dom_classes": [],
            "description": "",
            "_model_name": "HTMLModel",
            "placeholder": "​",
            "_view_module": "@jupyter-widgets/controls",
            "_model_module_version": "1.5.0",
            "value": " 1.36M/1.36M [00:02&lt;00:00, 467kB/s]",
            "_view_count": null,
            "_view_module_version": "1.5.0",
            "description_tooltip": null,
            "_model_module": "@jupyter-widgets/controls",
            "layout": "IPY_MODEL_fbc576f125ee46d5b4d16e610469b968"
          }
        },
        "2765743663b84607b591ce4986c14b20": {
          "model_module": "@jupyter-widgets/controls",
          "model_name": "ProgressStyleModel",
          "state": {
            "_view_name": "StyleView",
            "_model_name": "ProgressStyleModel",
            "description_width": "initial",
            "_view_module": "@jupyter-widgets/base",
            "_model_module_version": "1.5.0",
            "_view_count": null,
            "_view_module_version": "1.2.0",
            "bar_color": null,
            "_model_module": "@jupyter-widgets/controls"
          }
        },
        "296aefcf46a34783b9141d0c94dc1388": {
          "model_module": "@jupyter-widgets/base",
          "model_name": "LayoutModel",
          "state": {
            "_view_name": "LayoutView",
            "grid_template_rows": null,
            "right": null,
            "justify_content": null,
            "_view_module": "@jupyter-widgets/base",
            "overflow": null,
            "_model_module_version": "1.2.0",
            "_view_count": null,
            "flex_flow": null,
            "width": null,
            "min_width": null,
            "border": null,
            "align_items": null,
            "bottom": null,
            "_model_module": "@jupyter-widgets/base",
            "top": null,
            "grid_column": null,
            "overflow_y": null,
            "overflow_x": null,
            "grid_auto_flow": null,
            "grid_area": null,
            "grid_template_columns": null,
            "flex": null,
            "_model_name": "LayoutModel",
            "justify_items": null,
            "grid_row": null,
            "max_height": null,
            "align_content": null,
            "visibility": null,
            "align_self": null,
            "height": null,
            "min_height": null,
            "padding": null,
            "grid_auto_rows": null,
            "grid_gap": null,
            "max_width": null,
            "order": null,
            "_view_module_version": "1.2.0",
            "grid_template_areas": null,
            "object_position": null,
            "object_fit": null,
            "grid_auto_columns": null,
            "margin": null,
            "display": null,
            "left": null
          }
        },
        "8ac9c5a11a48483ba74675ee4558cb44": {
          "model_module": "@jupyter-widgets/controls",
          "model_name": "DescriptionStyleModel",
          "state": {
            "_view_name": "StyleView",
            "_model_name": "DescriptionStyleModel",
            "description_width": "",
            "_view_module": "@jupyter-widgets/base",
            "_model_module_version": "1.5.0",
            "_view_count": null,
            "_view_module_version": "1.2.0",
            "_model_module": "@jupyter-widgets/controls"
          }
        },
        "fbc576f125ee46d5b4d16e610469b968": {
          "model_module": "@jupyter-widgets/base",
          "model_name": "LayoutModel",
          "state": {
            "_view_name": "LayoutView",
            "grid_template_rows": null,
            "right": null,
            "justify_content": null,
            "_view_module": "@jupyter-widgets/base",
            "overflow": null,
            "_model_module_version": "1.2.0",
            "_view_count": null,
            "flex_flow": null,
            "width": null,
            "min_width": null,
            "border": null,
            "align_items": null,
            "bottom": null,
            "_model_module": "@jupyter-widgets/base",
            "top": null,
            "grid_column": null,
            "overflow_y": null,
            "overflow_x": null,
            "grid_auto_flow": null,
            "grid_area": null,
            "grid_template_columns": null,
            "flex": null,
            "_model_name": "LayoutModel",
            "justify_items": null,
            "grid_row": null,
            "max_height": null,
            "align_content": null,
            "visibility": null,
            "align_self": null,
            "height": null,
            "min_height": null,
            "padding": null,
            "grid_auto_rows": null,
            "grid_gap": null,
            "max_width": null,
            "order": null,
            "_view_module_version": "1.2.0",
            "grid_template_areas": null,
            "object_position": null,
            "object_fit": null,
            "grid_auto_columns": null,
            "margin": null,
            "display": null,
            "left": null
          }
        },
        "f333dbc822a343789ac2d00a6a0e3471": {
          "model_module": "@jupyter-widgets/controls",
          "model_name": "HBoxModel",
          "state": {
            "_view_name": "HBoxView",
            "_dom_classes": [],
            "_model_name": "HBoxModel",
            "_view_module": "@jupyter-widgets/controls",
            "_model_module_version": "1.5.0",
            "_view_count": null,
            "_view_module_version": "1.5.0",
            "box_style": "",
            "layout": "IPY_MODEL_d3908c6d21bf41dca89e8901baa47d9b",
            "_model_module": "@jupyter-widgets/controls",
            "children": [
              "IPY_MODEL_62307edd9d324c63ba371f21e6043933",
              "IPY_MODEL_63e146bd1c254e529aa05898825fa2ba"
            ]
          }
        },
        "d3908c6d21bf41dca89e8901baa47d9b": {
          "model_module": "@jupyter-widgets/base",
          "model_name": "LayoutModel",
          "state": {
            "_view_name": "LayoutView",
            "grid_template_rows": null,
            "right": null,
            "justify_content": null,
            "_view_module": "@jupyter-widgets/base",
            "overflow": null,
            "_model_module_version": "1.2.0",
            "_view_count": null,
            "flex_flow": null,
            "width": null,
            "min_width": null,
            "border": null,
            "align_items": null,
            "bottom": null,
            "_model_module": "@jupyter-widgets/base",
            "top": null,
            "grid_column": null,
            "overflow_y": null,
            "overflow_x": null,
            "grid_auto_flow": null,
            "grid_area": null,
            "grid_template_columns": null,
            "flex": null,
            "_model_name": "LayoutModel",
            "justify_items": null,
            "grid_row": null,
            "max_height": null,
            "align_content": null,
            "visibility": null,
            "align_self": null,
            "height": null,
            "min_height": null,
            "padding": null,
            "grid_auto_rows": null,
            "grid_gap": null,
            "max_width": null,
            "order": null,
            "_view_module_version": "1.2.0",
            "grid_template_areas": null,
            "object_position": null,
            "object_fit": null,
            "grid_auto_columns": null,
            "margin": null,
            "display": null,
            "left": null
          }
        },
        "62307edd9d324c63ba371f21e6043933": {
          "model_module": "@jupyter-widgets/controls",
          "model_name": "FloatProgressModel",
          "state": {
            "_view_name": "ProgressView",
            "style": "IPY_MODEL_d580b7da13ec42bbaabd8e73a0524383",
            "_dom_classes": [],
            "description": "Downloading: 100%",
            "_model_name": "FloatProgressModel",
            "bar_style": "success",
            "max": 1889,
            "_view_module": "@jupyter-widgets/controls",
            "_model_module_version": "1.5.0",
            "value": 1889,
            "_view_count": null,
            "_view_module_version": "1.5.0",
            "orientation": "horizontal",
            "min": 0,
            "description_tooltip": null,
            "_model_module": "@jupyter-widgets/controls",
            "layout": "IPY_MODEL_07326a7238d7467280dbb64558b90671"
          }
        },
        "63e146bd1c254e529aa05898825fa2ba": {
          "model_module": "@jupyter-widgets/controls",
          "model_name": "HTMLModel",
          "state": {
            "_view_name": "HTMLView",
            "style": "IPY_MODEL_9b17ca023dd846b0ad78ebffd0901eac",
            "_dom_classes": [],
            "description": "",
            "_model_name": "HTMLModel",
            "placeholder": "​",
            "_view_module": "@jupyter-widgets/controls",
            "_model_module_version": "1.5.0",
            "value": " 1.89k/1.89k [00:00&lt;00:00, 3.16kB/s]",
            "_view_count": null,
            "_view_module_version": "1.5.0",
            "description_tooltip": null,
            "_model_module": "@jupyter-widgets/controls",
            "layout": "IPY_MODEL_1e43eeb788ed4e9ab15f5a9e538c6093"
          }
        },
        "d580b7da13ec42bbaabd8e73a0524383": {
          "model_module": "@jupyter-widgets/controls",
          "model_name": "ProgressStyleModel",
          "state": {
            "_view_name": "StyleView",
            "_model_name": "ProgressStyleModel",
            "description_width": "initial",
            "_view_module": "@jupyter-widgets/base",
            "_model_module_version": "1.5.0",
            "_view_count": null,
            "_view_module_version": "1.2.0",
            "bar_color": null,
            "_model_module": "@jupyter-widgets/controls"
          }
        },
        "07326a7238d7467280dbb64558b90671": {
          "model_module": "@jupyter-widgets/base",
          "model_name": "LayoutModel",
          "state": {
            "_view_name": "LayoutView",
            "grid_template_rows": null,
            "right": null,
            "justify_content": null,
            "_view_module": "@jupyter-widgets/base",
            "overflow": null,
            "_model_module_version": "1.2.0",
            "_view_count": null,
            "flex_flow": null,
            "width": null,
            "min_width": null,
            "border": null,
            "align_items": null,
            "bottom": null,
            "_model_module": "@jupyter-widgets/base",
            "top": null,
            "grid_column": null,
            "overflow_y": null,
            "overflow_x": null,
            "grid_auto_flow": null,
            "grid_area": null,
            "grid_template_columns": null,
            "flex": null,
            "_model_name": "LayoutModel",
            "justify_items": null,
            "grid_row": null,
            "max_height": null,
            "align_content": null,
            "visibility": null,
            "align_self": null,
            "height": null,
            "min_height": null,
            "padding": null,
            "grid_auto_rows": null,
            "grid_gap": null,
            "max_width": null,
            "order": null,
            "_view_module_version": "1.2.0",
            "grid_template_areas": null,
            "object_position": null,
            "object_fit": null,
            "grid_auto_columns": null,
            "margin": null,
            "display": null,
            "left": null
          }
        },
        "9b17ca023dd846b0ad78ebffd0901eac": {
          "model_module": "@jupyter-widgets/controls",
          "model_name": "DescriptionStyleModel",
          "state": {
            "_view_name": "StyleView",
            "_model_name": "DescriptionStyleModel",
            "description_width": "",
            "_view_module": "@jupyter-widgets/base",
            "_model_module_version": "1.5.0",
            "_view_count": null,
            "_view_module_version": "1.2.0",
            "_model_module": "@jupyter-widgets/controls"
          }
        },
        "1e43eeb788ed4e9ab15f5a9e538c6093": {
          "model_module": "@jupyter-widgets/base",
          "model_name": "LayoutModel",
          "state": {
            "_view_name": "LayoutView",
            "grid_template_rows": null,
            "right": null,
            "justify_content": null,
            "_view_module": "@jupyter-widgets/base",
            "overflow": null,
            "_model_module_version": "1.2.0",
            "_view_count": null,
            "flex_flow": null,
            "width": null,
            "min_width": null,
            "border": null,
            "align_items": null,
            "bottom": null,
            "_model_module": "@jupyter-widgets/base",
            "top": null,
            "grid_column": null,
            "overflow_y": null,
            "overflow_x": null,
            "grid_auto_flow": null,
            "grid_area": null,
            "grid_template_columns": null,
            "flex": null,
            "_model_name": "LayoutModel",
            "justify_items": null,
            "grid_row": null,
            "max_height": null,
            "align_content": null,
            "visibility": null,
            "align_self": null,
            "height": null,
            "min_height": null,
            "padding": null,
            "grid_auto_rows": null,
            "grid_gap": null,
            "max_width": null,
            "order": null,
            "_view_module_version": "1.2.0",
            "grid_template_areas": null,
            "object_position": null,
            "object_fit": null,
            "grid_auto_columns": null,
            "margin": null,
            "display": null,
            "left": null
          }
        },
        "e1511d72ce2d4b6d96a5e31f28ed2c3c": {
          "model_module": "@jupyter-widgets/controls",
          "model_name": "HBoxModel",
          "state": {
            "_view_name": "HBoxView",
            "_dom_classes": [],
            "_model_name": "HBoxModel",
            "_view_module": "@jupyter-widgets/controls",
            "_model_module_version": "1.5.0",
            "_view_count": null,
            "_view_module_version": "1.5.0",
            "box_style": "",
            "layout": "IPY_MODEL_f295f6faa6a048f78eed83e4b13e08ed",
            "_model_module": "@jupyter-widgets/controls",
            "children": [
              "IPY_MODEL_6070ada0afa84fb0a77cf56b58b06f9e",
              "IPY_MODEL_d01110e28bfb4a29aaf99154bc6662f1"
            ]
          }
        },
        "f295f6faa6a048f78eed83e4b13e08ed": {
          "model_module": "@jupyter-widgets/base",
          "model_name": "LayoutModel",
          "state": {
            "_view_name": "LayoutView",
            "grid_template_rows": null,
            "right": null,
            "justify_content": null,
            "_view_module": "@jupyter-widgets/base",
            "overflow": null,
            "_model_module_version": "1.2.0",
            "_view_count": null,
            "flex_flow": null,
            "width": null,
            "min_width": null,
            "border": null,
            "align_items": null,
            "bottom": null,
            "_model_module": "@jupyter-widgets/base",
            "top": null,
            "grid_column": null,
            "overflow_y": null,
            "overflow_x": null,
            "grid_auto_flow": null,
            "grid_area": null,
            "grid_template_columns": null,
            "flex": null,
            "_model_name": "LayoutModel",
            "justify_items": null,
            "grid_row": null,
            "max_height": null,
            "align_content": null,
            "visibility": null,
            "align_self": null,
            "height": null,
            "min_height": null,
            "padding": null,
            "grid_auto_rows": null,
            "grid_gap": null,
            "max_width": null,
            "order": null,
            "_view_module_version": "1.2.0",
            "grid_template_areas": null,
            "object_position": null,
            "object_fit": null,
            "grid_auto_columns": null,
            "margin": null,
            "display": null,
            "left": null
          }
        },
        "6070ada0afa84fb0a77cf56b58b06f9e": {
          "model_module": "@jupyter-widgets/controls",
          "model_name": "FloatProgressModel",
          "state": {
            "_view_name": "ProgressView",
            "style": "IPY_MODEL_60605ac21d8a49e0977370bc003ad718",
            "_dom_classes": [],
            "description": "Downloading: 100%",
            "_model_name": "FloatProgressModel",
            "bar_style": "success",
            "max": 1388,
            "_view_module": "@jupyter-widgets/controls",
            "_model_module_version": "1.5.0",
            "value": 1388,
            "_view_count": null,
            "_view_module_version": "1.5.0",
            "orientation": "horizontal",
            "min": 0,
            "description_tooltip": null,
            "_model_module": "@jupyter-widgets/controls",
            "layout": "IPY_MODEL_afbb299c313e494089d96d6d0f6ed2a7"
          }
        },
        "d01110e28bfb4a29aaf99154bc6662f1": {
          "model_module": "@jupyter-widgets/controls",
          "model_name": "HTMLModel",
          "state": {
            "_view_name": "HTMLView",
            "style": "IPY_MODEL_891fb4a2dbed47c2be2df1425fbfc397",
            "_dom_classes": [],
            "description": "",
            "_model_name": "HTMLModel",
            "placeholder": "​",
            "_view_module": "@jupyter-widgets/controls",
            "_model_module_version": "1.5.0",
            "value": " 1.39k/1.39k [00:20&lt;00:00, 68.7B/s]",
            "_view_count": null,
            "_view_module_version": "1.5.0",
            "description_tooltip": null,
            "_model_module": "@jupyter-widgets/controls",
            "layout": "IPY_MODEL_26bc0195bcd6464fa5b59c543bd689db"
          }
        },
        "60605ac21d8a49e0977370bc003ad718": {
          "model_module": "@jupyter-widgets/controls",
          "model_name": "ProgressStyleModel",
          "state": {
            "_view_name": "StyleView",
            "_model_name": "ProgressStyleModel",
            "description_width": "initial",
            "_view_module": "@jupyter-widgets/base",
            "_model_module_version": "1.5.0",
            "_view_count": null,
            "_view_module_version": "1.2.0",
            "bar_color": null,
            "_model_module": "@jupyter-widgets/controls"
          }
        },
        "afbb299c313e494089d96d6d0f6ed2a7": {
          "model_module": "@jupyter-widgets/base",
          "model_name": "LayoutModel",
          "state": {
            "_view_name": "LayoutView",
            "grid_template_rows": null,
            "right": null,
            "justify_content": null,
            "_view_module": "@jupyter-widgets/base",
            "overflow": null,
            "_model_module_version": "1.2.0",
            "_view_count": null,
            "flex_flow": null,
            "width": null,
            "min_width": null,
            "border": null,
            "align_items": null,
            "bottom": null,
            "_model_module": "@jupyter-widgets/base",
            "top": null,
            "grid_column": null,
            "overflow_y": null,
            "overflow_x": null,
            "grid_auto_flow": null,
            "grid_area": null,
            "grid_template_columns": null,
            "flex": null,
            "_model_name": "LayoutModel",
            "justify_items": null,
            "grid_row": null,
            "max_height": null,
            "align_content": null,
            "visibility": null,
            "align_self": null,
            "height": null,
            "min_height": null,
            "padding": null,
            "grid_auto_rows": null,
            "grid_gap": null,
            "max_width": null,
            "order": null,
            "_view_module_version": "1.2.0",
            "grid_template_areas": null,
            "object_position": null,
            "object_fit": null,
            "grid_auto_columns": null,
            "margin": null,
            "display": null,
            "left": null
          }
        },
        "891fb4a2dbed47c2be2df1425fbfc397": {
          "model_module": "@jupyter-widgets/controls",
          "model_name": "DescriptionStyleModel",
          "state": {
            "_view_name": "StyleView",
            "_model_name": "DescriptionStyleModel",
            "description_width": "",
            "_view_module": "@jupyter-widgets/base",
            "_model_module_version": "1.5.0",
            "_view_count": null,
            "_view_module_version": "1.2.0",
            "_model_module": "@jupyter-widgets/controls"
          }
        },
        "26bc0195bcd6464fa5b59c543bd689db": {
          "model_module": "@jupyter-widgets/base",
          "model_name": "LayoutModel",
          "state": {
            "_view_name": "LayoutView",
            "grid_template_rows": null,
            "right": null,
            "justify_content": null,
            "_view_module": "@jupyter-widgets/base",
            "overflow": null,
            "_model_module_version": "1.2.0",
            "_view_count": null,
            "flex_flow": null,
            "width": null,
            "min_width": null,
            "border": null,
            "align_items": null,
            "bottom": null,
            "_model_module": "@jupyter-widgets/base",
            "top": null,
            "grid_column": null,
            "overflow_y": null,
            "overflow_x": null,
            "grid_auto_flow": null,
            "grid_area": null,
            "grid_template_columns": null,
            "flex": null,
            "_model_name": "LayoutModel",
            "justify_items": null,
            "grid_row": null,
            "max_height": null,
            "align_content": null,
            "visibility": null,
            "align_self": null,
            "height": null,
            "min_height": null,
            "padding": null,
            "grid_auto_rows": null,
            "grid_gap": null,
            "max_width": null,
            "order": null,
            "_view_module_version": "1.2.0",
            "grid_template_areas": null,
            "object_position": null,
            "object_fit": null,
            "grid_auto_columns": null,
            "margin": null,
            "display": null,
            "left": null
          }
        },
        "ba07098a163b471d86cfd376575931c3": {
          "model_module": "@jupyter-widgets/controls",
          "model_name": "HBoxModel",
          "state": {
            "_view_name": "HBoxView",
            "_dom_classes": [],
            "_model_name": "HBoxModel",
            "_view_module": "@jupyter-widgets/controls",
            "_model_module_version": "1.5.0",
            "_view_count": null,
            "_view_module_version": "1.5.0",
            "box_style": "",
            "layout": "IPY_MODEL_86f2819afa7d4e98a1da66f434d38e02",
            "_model_module": "@jupyter-widgets/controls",
            "children": [
              "IPY_MODEL_457e756fb191466f87d10d4a265dfe9f",
              "IPY_MODEL_12f778ee110648baba823a5178bdd2dd"
            ]
          }
        },
        "86f2819afa7d4e98a1da66f434d38e02": {
          "model_module": "@jupyter-widgets/base",
          "model_name": "LayoutModel",
          "state": {
            "_view_name": "LayoutView",
            "grid_template_rows": null,
            "right": null,
            "justify_content": null,
            "_view_module": "@jupyter-widgets/base",
            "overflow": null,
            "_model_module_version": "1.2.0",
            "_view_count": null,
            "flex_flow": null,
            "width": null,
            "min_width": null,
            "border": null,
            "align_items": null,
            "bottom": null,
            "_model_module": "@jupyter-widgets/base",
            "top": null,
            "grid_column": null,
            "overflow_y": null,
            "overflow_x": null,
            "grid_auto_flow": null,
            "grid_area": null,
            "grid_template_columns": null,
            "flex": null,
            "_model_name": "LayoutModel",
            "justify_items": null,
            "grid_row": null,
            "max_height": null,
            "align_content": null,
            "visibility": null,
            "align_self": null,
            "height": null,
            "min_height": null,
            "padding": null,
            "grid_auto_rows": null,
            "grid_gap": null,
            "max_width": null,
            "order": null,
            "_view_module_version": "1.2.0",
            "grid_template_areas": null,
            "object_position": null,
            "object_fit": null,
            "grid_auto_columns": null,
            "margin": null,
            "display": null,
            "left": null
          }
        },
        "457e756fb191466f87d10d4a265dfe9f": {
          "model_module": "@jupyter-widgets/controls",
          "model_name": "FloatProgressModel",
          "state": {
            "_view_name": "ProgressView",
            "style": "IPY_MODEL_61d96fe53224441bb67698026d783b72",
            "_dom_classes": [],
            "description": "Downloading: 100%",
            "_model_name": "FloatProgressModel",
            "bar_style": "success",
            "max": 791656,
            "_view_module": "@jupyter-widgets/controls",
            "_model_module_version": "1.5.0",
            "value": 791656,
            "_view_count": null,
            "_view_module_version": "1.5.0",
            "orientation": "horizontal",
            "min": 0,
            "description_tooltip": null,
            "_model_module": "@jupyter-widgets/controls",
            "layout": "IPY_MODEL_9de2f679c5514f4292f9ad2930e74f6d"
          }
        },
        "12f778ee110648baba823a5178bdd2dd": {
          "model_module": "@jupyter-widgets/controls",
          "model_name": "HTMLModel",
          "state": {
            "_view_name": "HTMLView",
            "style": "IPY_MODEL_31c74b3385f04079a611ca8191aa95e7",
            "_dom_classes": [],
            "description": "",
            "_model_name": "HTMLModel",
            "placeholder": "​",
            "_view_module": "@jupyter-widgets/controls",
            "_model_module_version": "1.5.0",
            "value": " 792k/792k [00:00&lt;00:00, 1.18MB/s]",
            "_view_count": null,
            "_view_module_version": "1.5.0",
            "description_tooltip": null,
            "_model_module": "@jupyter-widgets/controls",
            "layout": "IPY_MODEL_6174e7d51de1499f891a971cecada75e"
          }
        },
        "61d96fe53224441bb67698026d783b72": {
          "model_module": "@jupyter-widgets/controls",
          "model_name": "ProgressStyleModel",
          "state": {
            "_view_name": "StyleView",
            "_model_name": "ProgressStyleModel",
            "description_width": "initial",
            "_view_module": "@jupyter-widgets/base",
            "_model_module_version": "1.5.0",
            "_view_count": null,
            "_view_module_version": "1.2.0",
            "bar_color": null,
            "_model_module": "@jupyter-widgets/controls"
          }
        },
        "9de2f679c5514f4292f9ad2930e74f6d": {
          "model_module": "@jupyter-widgets/base",
          "model_name": "LayoutModel",
          "state": {
            "_view_name": "LayoutView",
            "grid_template_rows": null,
            "right": null,
            "justify_content": null,
            "_view_module": "@jupyter-widgets/base",
            "overflow": null,
            "_model_module_version": "1.2.0",
            "_view_count": null,
            "flex_flow": null,
            "width": null,
            "min_width": null,
            "border": null,
            "align_items": null,
            "bottom": null,
            "_model_module": "@jupyter-widgets/base",
            "top": null,
            "grid_column": null,
            "overflow_y": null,
            "overflow_x": null,
            "grid_auto_flow": null,
            "grid_area": null,
            "grid_template_columns": null,
            "flex": null,
            "_model_name": "LayoutModel",
            "justify_items": null,
            "grid_row": null,
            "max_height": null,
            "align_content": null,
            "visibility": null,
            "align_self": null,
            "height": null,
            "min_height": null,
            "padding": null,
            "grid_auto_rows": null,
            "grid_gap": null,
            "max_width": null,
            "order": null,
            "_view_module_version": "1.2.0",
            "grid_template_areas": null,
            "object_position": null,
            "object_fit": null,
            "grid_auto_columns": null,
            "margin": null,
            "display": null,
            "left": null
          }
        },
        "31c74b3385f04079a611ca8191aa95e7": {
          "model_module": "@jupyter-widgets/controls",
          "model_name": "DescriptionStyleModel",
          "state": {
            "_view_name": "StyleView",
            "_model_name": "DescriptionStyleModel",
            "description_width": "",
            "_view_module": "@jupyter-widgets/base",
            "_model_module_version": "1.5.0",
            "_view_count": null,
            "_view_module_version": "1.2.0",
            "_model_module": "@jupyter-widgets/controls"
          }
        },
        "6174e7d51de1499f891a971cecada75e": {
          "model_module": "@jupyter-widgets/base",
          "model_name": "LayoutModel",
          "state": {
            "_view_name": "LayoutView",
            "grid_template_rows": null,
            "right": null,
            "justify_content": null,
            "_view_module": "@jupyter-widgets/base",
            "overflow": null,
            "_model_module_version": "1.2.0",
            "_view_count": null,
            "flex_flow": null,
            "width": null,
            "min_width": null,
            "border": null,
            "align_items": null,
            "bottom": null,
            "_model_module": "@jupyter-widgets/base",
            "top": null,
            "grid_column": null,
            "overflow_y": null,
            "overflow_x": null,
            "grid_auto_flow": null,
            "grid_area": null,
            "grid_template_columns": null,
            "flex": null,
            "_model_name": "LayoutModel",
            "justify_items": null,
            "grid_row": null,
            "max_height": null,
            "align_content": null,
            "visibility": null,
            "align_self": null,
            "height": null,
            "min_height": null,
            "padding": null,
            "grid_auto_rows": null,
            "grid_gap": null,
            "max_width": null,
            "order": null,
            "_view_module_version": "1.2.0",
            "grid_template_areas": null,
            "object_position": null,
            "object_fit": null,
            "grid_auto_columns": null,
            "margin": null,
            "display": null,
            "left": null
          }
        },
        "e83ec8719e65405fb45e07d5fef22c3f": {
          "model_module": "@jupyter-widgets/controls",
          "model_name": "HBoxModel",
          "state": {
            "_view_name": "HBoxView",
            "_dom_classes": [],
            "_model_name": "HBoxModel",
            "_view_module": "@jupyter-widgets/controls",
            "_model_module_version": "1.5.0",
            "_view_count": null,
            "_view_module_version": "1.5.0",
            "box_style": "",
            "layout": "IPY_MODEL_5a58e7ba0cd7494d8802434120678533",
            "_model_module": "@jupyter-widgets/controls",
            "children": [
              "IPY_MODEL_8e699be57bdb4e2688164db4e8cc1922",
              "IPY_MODEL_b63a7934ba754adc8210cef420ffd957"
            ]
          }
        },
        "5a58e7ba0cd7494d8802434120678533": {
          "model_module": "@jupyter-widgets/base",
          "model_name": "LayoutModel",
          "state": {
            "_view_name": "LayoutView",
            "grid_template_rows": null,
            "right": null,
            "justify_content": null,
            "_view_module": "@jupyter-widgets/base",
            "overflow": null,
            "_model_module_version": "1.2.0",
            "_view_count": null,
            "flex_flow": null,
            "width": null,
            "min_width": null,
            "border": null,
            "align_items": null,
            "bottom": null,
            "_model_module": "@jupyter-widgets/base",
            "top": null,
            "grid_column": null,
            "overflow_y": null,
            "overflow_x": null,
            "grid_auto_flow": null,
            "grid_area": null,
            "grid_template_columns": null,
            "flex": null,
            "_model_name": "LayoutModel",
            "justify_items": null,
            "grid_row": null,
            "max_height": null,
            "align_content": null,
            "visibility": null,
            "align_self": null,
            "height": null,
            "min_height": null,
            "padding": null,
            "grid_auto_rows": null,
            "grid_gap": null,
            "max_width": null,
            "order": null,
            "_view_module_version": "1.2.0",
            "grid_template_areas": null,
            "object_position": null,
            "object_fit": null,
            "grid_auto_columns": null,
            "margin": null,
            "display": null,
            "left": null
          }
        },
        "8e699be57bdb4e2688164db4e8cc1922": {
          "model_module": "@jupyter-widgets/controls",
          "model_name": "FloatProgressModel",
          "state": {
            "_view_name": "ProgressView",
            "style": "IPY_MODEL_5339243bcc0642a6a1146161979661f8",
            "_dom_classes": [],
            "description": "Downloading: 100%",
            "_model_name": "FloatProgressModel",
            "bar_style": "success",
            "max": 1387488,
            "_view_module": "@jupyter-widgets/controls",
            "_model_module_version": "1.5.0",
            "value": 1387488,
            "_view_count": null,
            "_view_module_version": "1.5.0",
            "orientation": "horizontal",
            "min": 0,
            "description_tooltip": null,
            "_model_module": "@jupyter-widgets/controls",
            "layout": "IPY_MODEL_f604e99e54f142699267384d7f2732ec"
          }
        },
        "b63a7934ba754adc8210cef420ffd957": {
          "model_module": "@jupyter-widgets/controls",
          "model_name": "HTMLModel",
          "state": {
            "_view_name": "HTMLView",
            "style": "IPY_MODEL_5add153f029741e495ebc7c911d3a3a2",
            "_dom_classes": [],
            "description": "",
            "_model_name": "HTMLModel",
            "placeholder": "​",
            "_view_module": "@jupyter-widgets/controls",
            "_model_module_version": "1.5.0",
            "value": " 1.39M/1.39M [00:18&lt;00:00, 74.0kB/s]",
            "_view_count": null,
            "_view_module_version": "1.5.0",
            "description_tooltip": null,
            "_model_module": "@jupyter-widgets/controls",
            "layout": "IPY_MODEL_43ddcf4b3a4646e586551c58a55c2620"
          }
        },
        "5339243bcc0642a6a1146161979661f8": {
          "model_module": "@jupyter-widgets/controls",
          "model_name": "ProgressStyleModel",
          "state": {
            "_view_name": "StyleView",
            "_model_name": "ProgressStyleModel",
            "description_width": "initial",
            "_view_module": "@jupyter-widgets/base",
            "_model_module_version": "1.5.0",
            "_view_count": null,
            "_view_module_version": "1.2.0",
            "bar_color": null,
            "_model_module": "@jupyter-widgets/controls"
          }
        },
        "f604e99e54f142699267384d7f2732ec": {
          "model_module": "@jupyter-widgets/base",
          "model_name": "LayoutModel",
          "state": {
            "_view_name": "LayoutView",
            "grid_template_rows": null,
            "right": null,
            "justify_content": null,
            "_view_module": "@jupyter-widgets/base",
            "overflow": null,
            "_model_module_version": "1.2.0",
            "_view_count": null,
            "flex_flow": null,
            "width": null,
            "min_width": null,
            "border": null,
            "align_items": null,
            "bottom": null,
            "_model_module": "@jupyter-widgets/base",
            "top": null,
            "grid_column": null,
            "overflow_y": null,
            "overflow_x": null,
            "grid_auto_flow": null,
            "grid_area": null,
            "grid_template_columns": null,
            "flex": null,
            "_model_name": "LayoutModel",
            "justify_items": null,
            "grid_row": null,
            "max_height": null,
            "align_content": null,
            "visibility": null,
            "align_self": null,
            "height": null,
            "min_height": null,
            "padding": null,
            "grid_auto_rows": null,
            "grid_gap": null,
            "max_width": null,
            "order": null,
            "_view_module_version": "1.2.0",
            "grid_template_areas": null,
            "object_position": null,
            "object_fit": null,
            "grid_auto_columns": null,
            "margin": null,
            "display": null,
            "left": null
          }
        },
        "5add153f029741e495ebc7c911d3a3a2": {
          "model_module": "@jupyter-widgets/controls",
          "model_name": "DescriptionStyleModel",
          "state": {
            "_view_name": "StyleView",
            "_model_name": "DescriptionStyleModel",
            "description_width": "",
            "_view_module": "@jupyter-widgets/base",
            "_model_module_version": "1.5.0",
            "_view_count": null,
            "_view_module_version": "1.2.0",
            "_model_module": "@jupyter-widgets/controls"
          }
        },
        "43ddcf4b3a4646e586551c58a55c2620": {
          "model_module": "@jupyter-widgets/base",
          "model_name": "LayoutModel",
          "state": {
            "_view_name": "LayoutView",
            "grid_template_rows": null,
            "right": null,
            "justify_content": null,
            "_view_module": "@jupyter-widgets/base",
            "overflow": null,
            "_model_module_version": "1.2.0",
            "_view_count": null,
            "flex_flow": null,
            "width": null,
            "min_width": null,
            "border": null,
            "align_items": null,
            "bottom": null,
            "_model_module": "@jupyter-widgets/base",
            "top": null,
            "grid_column": null,
            "overflow_y": null,
            "overflow_x": null,
            "grid_auto_flow": null,
            "grid_area": null,
            "grid_template_columns": null,
            "flex": null,
            "_model_name": "LayoutModel",
            "justify_items": null,
            "grid_row": null,
            "max_height": null,
            "align_content": null,
            "visibility": null,
            "align_self": null,
            "height": null,
            "min_height": null,
            "padding": null,
            "grid_auto_rows": null,
            "grid_gap": null,
            "max_width": null,
            "order": null,
            "_view_module_version": "1.2.0",
            "grid_template_areas": null,
            "object_position": null,
            "object_fit": null,
            "grid_auto_columns": null,
            "margin": null,
            "display": null,
            "left": null
          }
        },
        "5c6cec94a645429a96f33fa1e6ff26eb": {
          "model_module": "@jupyter-widgets/controls",
          "model_name": "HBoxModel",
          "state": {
            "_view_name": "HBoxView",
            "_dom_classes": [],
            "_model_name": "HBoxModel",
            "_view_module": "@jupyter-widgets/controls",
            "_model_module_version": "1.5.0",
            "_view_count": null,
            "_view_module_version": "1.5.0",
            "box_style": "",
            "layout": "IPY_MODEL_7ffa389584f84dc3b0fe79648d21033d",
            "_model_module": "@jupyter-widgets/controls",
            "children": [
              "IPY_MODEL_ac3967313fa9430c9c5fe4cdbe51c286",
              "IPY_MODEL_ff15fc6c5812485ab18f491f0b0ef941"
            ]
          }
        },
        "7ffa389584f84dc3b0fe79648d21033d": {
          "model_module": "@jupyter-widgets/base",
          "model_name": "LayoutModel",
          "state": {
            "_view_name": "LayoutView",
            "grid_template_rows": null,
            "right": null,
            "justify_content": null,
            "_view_module": "@jupyter-widgets/base",
            "overflow": null,
            "_model_module_version": "1.2.0",
            "_view_count": null,
            "flex_flow": null,
            "width": null,
            "min_width": null,
            "border": null,
            "align_items": null,
            "bottom": null,
            "_model_module": "@jupyter-widgets/base",
            "top": null,
            "grid_column": null,
            "overflow_y": null,
            "overflow_x": null,
            "grid_auto_flow": null,
            "grid_area": null,
            "grid_template_columns": null,
            "flex": null,
            "_model_name": "LayoutModel",
            "justify_items": null,
            "grid_row": null,
            "max_height": null,
            "align_content": null,
            "visibility": null,
            "align_self": null,
            "height": null,
            "min_height": null,
            "padding": null,
            "grid_auto_rows": null,
            "grid_gap": null,
            "max_width": null,
            "order": null,
            "_view_module_version": "1.2.0",
            "grid_template_areas": null,
            "object_position": null,
            "object_fit": null,
            "grid_auto_columns": null,
            "margin": null,
            "display": null,
            "left": null
          }
        },
        "ac3967313fa9430c9c5fe4cdbe51c286": {
          "model_module": "@jupyter-widgets/controls",
          "model_name": "FloatProgressModel",
          "state": {
            "_view_name": "ProgressView",
            "style": "IPY_MODEL_8884f919dd4c4605b5b8b34b03ecdd98",
            "_dom_classes": [],
            "description": "Downloading: 100%",
            "_model_name": "FloatProgressModel",
            "bar_style": "success",
            "max": 1786,
            "_view_module": "@jupyter-widgets/controls",
            "_model_module_version": "1.5.0",
            "value": 1786,
            "_view_count": null,
            "_view_module_version": "1.5.0",
            "orientation": "horizontal",
            "min": 0,
            "description_tooltip": null,
            "_model_module": "@jupyter-widgets/controls",
            "layout": "IPY_MODEL_6ad8febfd64a4fa7880f283ddaeda458"
          }
        },
        "ff15fc6c5812485ab18f491f0b0ef941": {
          "model_module": "@jupyter-widgets/controls",
          "model_name": "HTMLModel",
          "state": {
            "_view_name": "HTMLView",
            "style": "IPY_MODEL_fb55abff3aab4e05981165c1b46a36d8",
            "_dom_classes": [],
            "description": "",
            "_model_name": "HTMLModel",
            "placeholder": "​",
            "_view_module": "@jupyter-widgets/controls",
            "_model_module_version": "1.5.0",
            "value": " 1.79k/1.79k [00:01&lt;00:00, 1.05kB/s]",
            "_view_count": null,
            "_view_module_version": "1.5.0",
            "description_tooltip": null,
            "_model_module": "@jupyter-widgets/controls",
            "layout": "IPY_MODEL_7fbe5949bc4d471a9a7d014debbb9f63"
          }
        },
        "8884f919dd4c4605b5b8b34b03ecdd98": {
          "model_module": "@jupyter-widgets/controls",
          "model_name": "ProgressStyleModel",
          "state": {
            "_view_name": "StyleView",
            "_model_name": "ProgressStyleModel",
            "description_width": "initial",
            "_view_module": "@jupyter-widgets/base",
            "_model_module_version": "1.5.0",
            "_view_count": null,
            "_view_module_version": "1.2.0",
            "bar_color": null,
            "_model_module": "@jupyter-widgets/controls"
          }
        },
        "6ad8febfd64a4fa7880f283ddaeda458": {
          "model_module": "@jupyter-widgets/base",
          "model_name": "LayoutModel",
          "state": {
            "_view_name": "LayoutView",
            "grid_template_rows": null,
            "right": null,
            "justify_content": null,
            "_view_module": "@jupyter-widgets/base",
            "overflow": null,
            "_model_module_version": "1.2.0",
            "_view_count": null,
            "flex_flow": null,
            "width": null,
            "min_width": null,
            "border": null,
            "align_items": null,
            "bottom": null,
            "_model_module": "@jupyter-widgets/base",
            "top": null,
            "grid_column": null,
            "overflow_y": null,
            "overflow_x": null,
            "grid_auto_flow": null,
            "grid_area": null,
            "grid_template_columns": null,
            "flex": null,
            "_model_name": "LayoutModel",
            "justify_items": null,
            "grid_row": null,
            "max_height": null,
            "align_content": null,
            "visibility": null,
            "align_self": null,
            "height": null,
            "min_height": null,
            "padding": null,
            "grid_auto_rows": null,
            "grid_gap": null,
            "max_width": null,
            "order": null,
            "_view_module_version": "1.2.0",
            "grid_template_areas": null,
            "object_position": null,
            "object_fit": null,
            "grid_auto_columns": null,
            "margin": null,
            "display": null,
            "left": null
          }
        },
        "fb55abff3aab4e05981165c1b46a36d8": {
          "model_module": "@jupyter-widgets/controls",
          "model_name": "DescriptionStyleModel",
          "state": {
            "_view_name": "StyleView",
            "_model_name": "DescriptionStyleModel",
            "description_width": "",
            "_view_module": "@jupyter-widgets/base",
            "_model_module_version": "1.5.0",
            "_view_count": null,
            "_view_module_version": "1.2.0",
            "_model_module": "@jupyter-widgets/controls"
          }
        },
        "7fbe5949bc4d471a9a7d014debbb9f63": {
          "model_module": "@jupyter-widgets/base",
          "model_name": "LayoutModel",
          "state": {
            "_view_name": "LayoutView",
            "grid_template_rows": null,
            "right": null,
            "justify_content": null,
            "_view_module": "@jupyter-widgets/base",
            "overflow": null,
            "_model_module_version": "1.2.0",
            "_view_count": null,
            "flex_flow": null,
            "width": null,
            "min_width": null,
            "border": null,
            "align_items": null,
            "bottom": null,
            "_model_module": "@jupyter-widgets/base",
            "top": null,
            "grid_column": null,
            "overflow_y": null,
            "overflow_x": null,
            "grid_auto_flow": null,
            "grid_area": null,
            "grid_template_columns": null,
            "flex": null,
            "_model_name": "LayoutModel",
            "justify_items": null,
            "grid_row": null,
            "max_height": null,
            "align_content": null,
            "visibility": null,
            "align_self": null,
            "height": null,
            "min_height": null,
            "padding": null,
            "grid_auto_rows": null,
            "grid_gap": null,
            "max_width": null,
            "order": null,
            "_view_module_version": "1.2.0",
            "grid_template_areas": null,
            "object_position": null,
            "object_fit": null,
            "grid_auto_columns": null,
            "margin": null,
            "display": null,
            "left": null
          }
        },
        "dc9e6d7d2a234cfeb279dba866192c2f": {
          "model_module": "@jupyter-widgets/controls",
          "model_name": "HBoxModel",
          "state": {
            "_view_name": "HBoxView",
            "_dom_classes": [],
            "_model_name": "HBoxModel",
            "_view_module": "@jupyter-widgets/controls",
            "_model_module_version": "1.5.0",
            "_view_count": null,
            "_view_module_version": "1.5.0",
            "box_style": "",
            "layout": "IPY_MODEL_a97bd44d405e449da5cdaf7e75e34f02",
            "_model_module": "@jupyter-widgets/controls",
            "children": [
              "IPY_MODEL_41fb749307784cfb9bfec3fa712c69cd",
              "IPY_MODEL_a2a127ef6f134dda9906d1aff6d758ef"
            ]
          }
        },
        "a97bd44d405e449da5cdaf7e75e34f02": {
          "model_module": "@jupyter-widgets/base",
          "model_name": "LayoutModel",
          "state": {
            "_view_name": "LayoutView",
            "grid_template_rows": null,
            "right": null,
            "justify_content": null,
            "_view_module": "@jupyter-widgets/base",
            "overflow": null,
            "_model_module_version": "1.2.0",
            "_view_count": null,
            "flex_flow": null,
            "width": null,
            "min_width": null,
            "border": null,
            "align_items": null,
            "bottom": null,
            "_model_module": "@jupyter-widgets/base",
            "top": null,
            "grid_column": null,
            "overflow_y": null,
            "overflow_x": null,
            "grid_auto_flow": null,
            "grid_area": null,
            "grid_template_columns": null,
            "flex": null,
            "_model_name": "LayoutModel",
            "justify_items": null,
            "grid_row": null,
            "max_height": null,
            "align_content": null,
            "visibility": null,
            "align_self": null,
            "height": null,
            "min_height": null,
            "padding": null,
            "grid_auto_rows": null,
            "grid_gap": null,
            "max_width": null,
            "order": null,
            "_view_module_version": "1.2.0",
            "grid_template_areas": null,
            "object_position": null,
            "object_fit": null,
            "grid_auto_columns": null,
            "margin": null,
            "display": null,
            "left": null
          }
        },
        "41fb749307784cfb9bfec3fa712c69cd": {
          "model_module": "@jupyter-widgets/controls",
          "model_name": "FloatProgressModel",
          "state": {
            "_view_name": "ProgressView",
            "style": "IPY_MODEL_e9501ea5cf3b49a2901e8f3d0d3a346c",
            "_dom_classes": [],
            "description": "Downloading: 100%",
            "_model_name": "FloatProgressModel",
            "bar_style": "success",
            "max": 891730879,
            "_view_module": "@jupyter-widgets/controls",
            "_model_module_version": "1.5.0",
            "value": 891730879,
            "_view_count": null,
            "_view_module_version": "1.5.0",
            "orientation": "horizontal",
            "min": 0,
            "description_tooltip": null,
            "_model_module": "@jupyter-widgets/controls",
            "layout": "IPY_MODEL_eac0e02df91340c4a87bac8df9f6092b"
          }
        },
        "a2a127ef6f134dda9906d1aff6d758ef": {
          "model_module": "@jupyter-widgets/controls",
          "model_name": "HTMLModel",
          "state": {
            "_view_name": "HTMLView",
            "style": "IPY_MODEL_968a354c6801417c945b55b9878c76a6",
            "_dom_classes": [],
            "description": "",
            "_model_name": "HTMLModel",
            "placeholder": "​",
            "_view_module": "@jupyter-widgets/controls",
            "_model_module_version": "1.5.0",
            "value": " 892M/892M [00:16&lt;00:00, 54.9MB/s]",
            "_view_count": null,
            "_view_module_version": "1.5.0",
            "description_tooltip": null,
            "_model_module": "@jupyter-widgets/controls",
            "layout": "IPY_MODEL_c2ba1349b6204ed285a35d40b54e9696"
          }
        },
        "e9501ea5cf3b49a2901e8f3d0d3a346c": {
          "model_module": "@jupyter-widgets/controls",
          "model_name": "ProgressStyleModel",
          "state": {
            "_view_name": "StyleView",
            "_model_name": "ProgressStyleModel",
            "description_width": "initial",
            "_view_module": "@jupyter-widgets/base",
            "_model_module_version": "1.5.0",
            "_view_count": null,
            "_view_module_version": "1.2.0",
            "bar_color": null,
            "_model_module": "@jupyter-widgets/controls"
          }
        },
        "eac0e02df91340c4a87bac8df9f6092b": {
          "model_module": "@jupyter-widgets/base",
          "model_name": "LayoutModel",
          "state": {
            "_view_name": "LayoutView",
            "grid_template_rows": null,
            "right": null,
            "justify_content": null,
            "_view_module": "@jupyter-widgets/base",
            "overflow": null,
            "_model_module_version": "1.2.0",
            "_view_count": null,
            "flex_flow": null,
            "width": null,
            "min_width": null,
            "border": null,
            "align_items": null,
            "bottom": null,
            "_model_module": "@jupyter-widgets/base",
            "top": null,
            "grid_column": null,
            "overflow_y": null,
            "overflow_x": null,
            "grid_auto_flow": null,
            "grid_area": null,
            "grid_template_columns": null,
            "flex": null,
            "_model_name": "LayoutModel",
            "justify_items": null,
            "grid_row": null,
            "max_height": null,
            "align_content": null,
            "visibility": null,
            "align_self": null,
            "height": null,
            "min_height": null,
            "padding": null,
            "grid_auto_rows": null,
            "grid_gap": null,
            "max_width": null,
            "order": null,
            "_view_module_version": "1.2.0",
            "grid_template_areas": null,
            "object_position": null,
            "object_fit": null,
            "grid_auto_columns": null,
            "margin": null,
            "display": null,
            "left": null
          }
        },
        "968a354c6801417c945b55b9878c76a6": {
          "model_module": "@jupyter-widgets/controls",
          "model_name": "DescriptionStyleModel",
          "state": {
            "_view_name": "StyleView",
            "_model_name": "DescriptionStyleModel",
            "description_width": "",
            "_view_module": "@jupyter-widgets/base",
            "_model_module_version": "1.5.0",
            "_view_count": null,
            "_view_module_version": "1.2.0",
            "_model_module": "@jupyter-widgets/controls"
          }
        },
        "c2ba1349b6204ed285a35d40b54e9696": {
          "model_module": "@jupyter-widgets/base",
          "model_name": "LayoutModel",
          "state": {
            "_view_name": "LayoutView",
            "grid_template_rows": null,
            "right": null,
            "justify_content": null,
            "_view_module": "@jupyter-widgets/base",
            "overflow": null,
            "_model_module_version": "1.2.0",
            "_view_count": null,
            "flex_flow": null,
            "width": null,
            "min_width": null,
            "border": null,
            "align_items": null,
            "bottom": null,
            "_model_module": "@jupyter-widgets/base",
            "top": null,
            "grid_column": null,
            "overflow_y": null,
            "overflow_x": null,
            "grid_auto_flow": null,
            "grid_area": null,
            "grid_template_columns": null,
            "flex": null,
            "_model_name": "LayoutModel",
            "justify_items": null,
            "grid_row": null,
            "max_height": null,
            "align_content": null,
            "visibility": null,
            "align_self": null,
            "height": null,
            "min_height": null,
            "padding": null,
            "grid_auto_rows": null,
            "grid_gap": null,
            "max_width": null,
            "order": null,
            "_view_module_version": "1.2.0",
            "grid_template_areas": null,
            "object_position": null,
            "object_fit": null,
            "grid_auto_columns": null,
            "margin": null,
            "display": null,
            "left": null
          }
        },
        "f19eb17c85624b9883b071160303ab23": {
          "model_module": "@jupyter-widgets/controls",
          "model_name": "HBoxModel",
          "state": {
            "_view_name": "HBoxView",
            "_dom_classes": [],
            "_model_name": "HBoxModel",
            "_view_module": "@jupyter-widgets/controls",
            "_model_module_version": "1.5.0",
            "_view_count": null,
            "_view_module_version": "1.5.0",
            "box_style": "",
            "layout": "IPY_MODEL_5f6e62e4a3b940599ce1fa07c7eb71c9",
            "_model_module": "@jupyter-widgets/controls",
            "children": [
              "IPY_MODEL_0ba78f406bf04b2483e43e1f23c6a75e",
              "IPY_MODEL_b6e74f5199964d4a8baa87d998a93823"
            ]
          }
        },
        "5f6e62e4a3b940599ce1fa07c7eb71c9": {
          "model_module": "@jupyter-widgets/base",
          "model_name": "LayoutModel",
          "state": {
            "_view_name": "LayoutView",
            "grid_template_rows": null,
            "right": null,
            "justify_content": null,
            "_view_module": "@jupyter-widgets/base",
            "overflow": null,
            "_model_module_version": "1.2.0",
            "_view_count": null,
            "flex_flow": null,
            "width": null,
            "min_width": null,
            "border": null,
            "align_items": null,
            "bottom": null,
            "_model_module": "@jupyter-widgets/base",
            "top": null,
            "grid_column": null,
            "overflow_y": null,
            "overflow_x": null,
            "grid_auto_flow": null,
            "grid_area": null,
            "grid_template_columns": null,
            "flex": null,
            "_model_name": "LayoutModel",
            "justify_items": null,
            "grid_row": null,
            "max_height": null,
            "align_content": null,
            "visibility": null,
            "align_self": null,
            "height": null,
            "min_height": null,
            "padding": null,
            "grid_auto_rows": null,
            "grid_gap": null,
            "max_width": null,
            "order": null,
            "_view_module_version": "1.2.0",
            "grid_template_areas": null,
            "object_position": null,
            "object_fit": null,
            "grid_auto_columns": null,
            "margin": null,
            "display": null,
            "left": null
          }
        },
        "0ba78f406bf04b2483e43e1f23c6a75e": {
          "model_module": "@jupyter-widgets/controls",
          "model_name": "FloatProgressModel",
          "state": {
            "_view_name": "ProgressView",
            "style": "IPY_MODEL_26dc391effb148d6a840bb3c57fa1b9c",
            "_dom_classes": [],
            "description": "Downloading: 100%",
            "_model_name": "FloatProgressModel",
            "bar_style": "success",
            "max": 1889,
            "_view_module": "@jupyter-widgets/controls",
            "_model_module_version": "1.5.0",
            "value": 1889,
            "_view_count": null,
            "_view_module_version": "1.5.0",
            "orientation": "horizontal",
            "min": 0,
            "description_tooltip": null,
            "_model_module": "@jupyter-widgets/controls",
            "layout": "IPY_MODEL_40e43f64f6f6467890c5456ba4828546"
          }
        },
        "b6e74f5199964d4a8baa87d998a93823": {
          "model_module": "@jupyter-widgets/controls",
          "model_name": "HTMLModel",
          "state": {
            "_view_name": "HTMLView",
            "style": "IPY_MODEL_f211447bdac34839ab647e2a84583a50",
            "_dom_classes": [],
            "description": "",
            "_model_name": "HTMLModel",
            "placeholder": "​",
            "_view_module": "@jupyter-widgets/controls",
            "_model_module_version": "1.5.0",
            "value": " 1.89k/1.89k [00:00&lt;00:00, 2.40kB/s]",
            "_view_count": null,
            "_view_module_version": "1.5.0",
            "description_tooltip": null,
            "_model_module": "@jupyter-widgets/controls",
            "layout": "IPY_MODEL_b7e59d77b5e04b2f94a3f91a3d2490e2"
          }
        },
        "26dc391effb148d6a840bb3c57fa1b9c": {
          "model_module": "@jupyter-widgets/controls",
          "model_name": "ProgressStyleModel",
          "state": {
            "_view_name": "StyleView",
            "_model_name": "ProgressStyleModel",
            "description_width": "initial",
            "_view_module": "@jupyter-widgets/base",
            "_model_module_version": "1.5.0",
            "_view_count": null,
            "_view_module_version": "1.2.0",
            "bar_color": null,
            "_model_module": "@jupyter-widgets/controls"
          }
        },
        "40e43f64f6f6467890c5456ba4828546": {
          "model_module": "@jupyter-widgets/base",
          "model_name": "LayoutModel",
          "state": {
            "_view_name": "LayoutView",
            "grid_template_rows": null,
            "right": null,
            "justify_content": null,
            "_view_module": "@jupyter-widgets/base",
            "overflow": null,
            "_model_module_version": "1.2.0",
            "_view_count": null,
            "flex_flow": null,
            "width": null,
            "min_width": null,
            "border": null,
            "align_items": null,
            "bottom": null,
            "_model_module": "@jupyter-widgets/base",
            "top": null,
            "grid_column": null,
            "overflow_y": null,
            "overflow_x": null,
            "grid_auto_flow": null,
            "grid_area": null,
            "grid_template_columns": null,
            "flex": null,
            "_model_name": "LayoutModel",
            "justify_items": null,
            "grid_row": null,
            "max_height": null,
            "align_content": null,
            "visibility": null,
            "align_self": null,
            "height": null,
            "min_height": null,
            "padding": null,
            "grid_auto_rows": null,
            "grid_gap": null,
            "max_width": null,
            "order": null,
            "_view_module_version": "1.2.0",
            "grid_template_areas": null,
            "object_position": null,
            "object_fit": null,
            "grid_auto_columns": null,
            "margin": null,
            "display": null,
            "left": null
          }
        },
        "f211447bdac34839ab647e2a84583a50": {
          "model_module": "@jupyter-widgets/controls",
          "model_name": "DescriptionStyleModel",
          "state": {
            "_view_name": "StyleView",
            "_model_name": "DescriptionStyleModel",
            "description_width": "",
            "_view_module": "@jupyter-widgets/base",
            "_model_module_version": "1.5.0",
            "_view_count": null,
            "_view_module_version": "1.2.0",
            "_model_module": "@jupyter-widgets/controls"
          }
        },
        "b7e59d77b5e04b2f94a3f91a3d2490e2": {
          "model_module": "@jupyter-widgets/base",
          "model_name": "LayoutModel",
          "state": {
            "_view_name": "LayoutView",
            "grid_template_rows": null,
            "right": null,
            "justify_content": null,
            "_view_module": "@jupyter-widgets/base",
            "overflow": null,
            "_model_module_version": "1.2.0",
            "_view_count": null,
            "flex_flow": null,
            "width": null,
            "min_width": null,
            "border": null,
            "align_items": null,
            "bottom": null,
            "_model_module": "@jupyter-widgets/base",
            "top": null,
            "grid_column": null,
            "overflow_y": null,
            "overflow_x": null,
            "grid_auto_flow": null,
            "grid_area": null,
            "grid_template_columns": null,
            "flex": null,
            "_model_name": "LayoutModel",
            "justify_items": null,
            "grid_row": null,
            "max_height": null,
            "align_content": null,
            "visibility": null,
            "align_self": null,
            "height": null,
            "min_height": null,
            "padding": null,
            "grid_auto_rows": null,
            "grid_gap": null,
            "max_width": null,
            "order": null,
            "_view_module_version": "1.2.0",
            "grid_template_areas": null,
            "object_position": null,
            "object_fit": null,
            "grid_auto_columns": null,
            "margin": null,
            "display": null,
            "left": null
          }
        },
        "a2250cec643a4d03adac70965aa7be1d": {
          "model_module": "@jupyter-widgets/controls",
          "model_name": "HBoxModel",
          "state": {
            "_view_name": "HBoxView",
            "_dom_classes": [],
            "_model_name": "HBoxModel",
            "_view_module": "@jupyter-widgets/controls",
            "_model_module_version": "1.5.0",
            "_view_count": null,
            "_view_module_version": "1.5.0",
            "box_style": "",
            "layout": "IPY_MODEL_d226311f572841f3ad82c901cd6ed734",
            "_model_module": "@jupyter-widgets/controls",
            "children": [
              "IPY_MODEL_e8563665f1104fc4b96c18dbf68ece85",
              "IPY_MODEL_ac0bcdebe2504dbf944cf53a81c3c94b"
            ]
          }
        },
        "d226311f572841f3ad82c901cd6ed734": {
          "model_module": "@jupyter-widgets/base",
          "model_name": "LayoutModel",
          "state": {
            "_view_name": "LayoutView",
            "grid_template_rows": null,
            "right": null,
            "justify_content": null,
            "_view_module": "@jupyter-widgets/base",
            "overflow": null,
            "_model_module_version": "1.2.0",
            "_view_count": null,
            "flex_flow": null,
            "width": null,
            "min_width": null,
            "border": null,
            "align_items": null,
            "bottom": null,
            "_model_module": "@jupyter-widgets/base",
            "top": null,
            "grid_column": null,
            "overflow_y": null,
            "overflow_x": null,
            "grid_auto_flow": null,
            "grid_area": null,
            "grid_template_columns": null,
            "flex": null,
            "_model_name": "LayoutModel",
            "justify_items": null,
            "grid_row": null,
            "max_height": null,
            "align_content": null,
            "visibility": null,
            "align_self": null,
            "height": null,
            "min_height": null,
            "padding": null,
            "grid_auto_rows": null,
            "grid_gap": null,
            "max_width": null,
            "order": null,
            "_view_module_version": "1.2.0",
            "grid_template_areas": null,
            "object_position": null,
            "object_fit": null,
            "grid_auto_columns": null,
            "margin": null,
            "display": null,
            "left": null
          }
        },
        "e8563665f1104fc4b96c18dbf68ece85": {
          "model_module": "@jupyter-widgets/controls",
          "model_name": "FloatProgressModel",
          "state": {
            "_view_name": "ProgressView",
            "style": "IPY_MODEL_d923b407cff546e18e2f958b53fe7ea1",
            "_dom_classes": [],
            "description": "Downloading: 100%",
            "_model_name": "FloatProgressModel",
            "bar_style": "success",
            "max": 1388,
            "_view_module": "@jupyter-widgets/controls",
            "_model_module_version": "1.5.0",
            "value": 1388,
            "_view_count": null,
            "_view_module_version": "1.5.0",
            "orientation": "horizontal",
            "min": 0,
            "description_tooltip": null,
            "_model_module": "@jupyter-widgets/controls",
            "layout": "IPY_MODEL_1af43236346e455782ce0a2977abb9fd"
          }
        },
        "ac0bcdebe2504dbf944cf53a81c3c94b": {
          "model_module": "@jupyter-widgets/controls",
          "model_name": "HTMLModel",
          "state": {
            "_view_name": "HTMLView",
            "style": "IPY_MODEL_1ba031fe38904c4c8cdecbdcefc36134",
            "_dom_classes": [],
            "description": "",
            "_model_name": "HTMLModel",
            "placeholder": "​",
            "_view_module": "@jupyter-widgets/controls",
            "_model_module_version": "1.5.0",
            "value": " 1.39k/1.39k [00:00&lt;00:00, 6.93kB/s]",
            "_view_count": null,
            "_view_module_version": "1.5.0",
            "description_tooltip": null,
            "_model_module": "@jupyter-widgets/controls",
            "layout": "IPY_MODEL_9fa09bb8b94545ea86a12c1c3f57f2dd"
          }
        },
        "d923b407cff546e18e2f958b53fe7ea1": {
          "model_module": "@jupyter-widgets/controls",
          "model_name": "ProgressStyleModel",
          "state": {
            "_view_name": "StyleView",
            "_model_name": "ProgressStyleModel",
            "description_width": "initial",
            "_view_module": "@jupyter-widgets/base",
            "_model_module_version": "1.5.0",
            "_view_count": null,
            "_view_module_version": "1.2.0",
            "bar_color": null,
            "_model_module": "@jupyter-widgets/controls"
          }
        },
        "1af43236346e455782ce0a2977abb9fd": {
          "model_module": "@jupyter-widgets/base",
          "model_name": "LayoutModel",
          "state": {
            "_view_name": "LayoutView",
            "grid_template_rows": null,
            "right": null,
            "justify_content": null,
            "_view_module": "@jupyter-widgets/base",
            "overflow": null,
            "_model_module_version": "1.2.0",
            "_view_count": null,
            "flex_flow": null,
            "width": null,
            "min_width": null,
            "border": null,
            "align_items": null,
            "bottom": null,
            "_model_module": "@jupyter-widgets/base",
            "top": null,
            "grid_column": null,
            "overflow_y": null,
            "overflow_x": null,
            "grid_auto_flow": null,
            "grid_area": null,
            "grid_template_columns": null,
            "flex": null,
            "_model_name": "LayoutModel",
            "justify_items": null,
            "grid_row": null,
            "max_height": null,
            "align_content": null,
            "visibility": null,
            "align_self": null,
            "height": null,
            "min_height": null,
            "padding": null,
            "grid_auto_rows": null,
            "grid_gap": null,
            "max_width": null,
            "order": null,
            "_view_module_version": "1.2.0",
            "grid_template_areas": null,
            "object_position": null,
            "object_fit": null,
            "grid_auto_columns": null,
            "margin": null,
            "display": null,
            "left": null
          }
        },
        "1ba031fe38904c4c8cdecbdcefc36134": {
          "model_module": "@jupyter-widgets/controls",
          "model_name": "DescriptionStyleModel",
          "state": {
            "_view_name": "StyleView",
            "_model_name": "DescriptionStyleModel",
            "description_width": "",
            "_view_module": "@jupyter-widgets/base",
            "_model_module_version": "1.5.0",
            "_view_count": null,
            "_view_module_version": "1.2.0",
            "_model_module": "@jupyter-widgets/controls"
          }
        },
        "9fa09bb8b94545ea86a12c1c3f57f2dd": {
          "model_module": "@jupyter-widgets/base",
          "model_name": "LayoutModel",
          "state": {
            "_view_name": "LayoutView",
            "grid_template_rows": null,
            "right": null,
            "justify_content": null,
            "_view_module": "@jupyter-widgets/base",
            "overflow": null,
            "_model_module_version": "1.2.0",
            "_view_count": null,
            "flex_flow": null,
            "width": null,
            "min_width": null,
            "border": null,
            "align_items": null,
            "bottom": null,
            "_model_module": "@jupyter-widgets/base",
            "top": null,
            "grid_column": null,
            "overflow_y": null,
            "overflow_x": null,
            "grid_auto_flow": null,
            "grid_area": null,
            "grid_template_columns": null,
            "flex": null,
            "_model_name": "LayoutModel",
            "justify_items": null,
            "grid_row": null,
            "max_height": null,
            "align_content": null,
            "visibility": null,
            "align_self": null,
            "height": null,
            "min_height": null,
            "padding": null,
            "grid_auto_rows": null,
            "grid_gap": null,
            "max_width": null,
            "order": null,
            "_view_module_version": "1.2.0",
            "grid_template_areas": null,
            "object_position": null,
            "object_fit": null,
            "grid_auto_columns": null,
            "margin": null,
            "display": null,
            "left": null
          }
        },
        "2e0f1e07da4e4b558396c26971475418": {
          "model_module": "@jupyter-widgets/controls",
          "model_name": "HBoxModel",
          "state": {
            "_view_name": "HBoxView",
            "_dom_classes": [],
            "_model_name": "HBoxModel",
            "_view_module": "@jupyter-widgets/controls",
            "_model_module_version": "1.5.0",
            "_view_count": null,
            "_view_module_version": "1.5.0",
            "box_style": "",
            "layout": "IPY_MODEL_3826b8627efb4bc0aee98e6b6e473ab7",
            "_model_module": "@jupyter-widgets/controls",
            "children": [
              "IPY_MODEL_d1691cc112544189aa4d7fe73d83c902",
              "IPY_MODEL_eb2c29a208b04aaa8c77d4227ce34157"
            ]
          }
        },
        "3826b8627efb4bc0aee98e6b6e473ab7": {
          "model_module": "@jupyter-widgets/base",
          "model_name": "LayoutModel",
          "state": {
            "_view_name": "LayoutView",
            "grid_template_rows": null,
            "right": null,
            "justify_content": null,
            "_view_module": "@jupyter-widgets/base",
            "overflow": null,
            "_model_module_version": "1.2.0",
            "_view_count": null,
            "flex_flow": null,
            "width": null,
            "min_width": null,
            "border": null,
            "align_items": null,
            "bottom": null,
            "_model_module": "@jupyter-widgets/base",
            "top": null,
            "grid_column": null,
            "overflow_y": null,
            "overflow_x": null,
            "grid_auto_flow": null,
            "grid_area": null,
            "grid_template_columns": null,
            "flex": null,
            "_model_name": "LayoutModel",
            "justify_items": null,
            "grid_row": null,
            "max_height": null,
            "align_content": null,
            "visibility": null,
            "align_self": null,
            "height": null,
            "min_height": null,
            "padding": null,
            "grid_auto_rows": null,
            "grid_gap": null,
            "max_width": null,
            "order": null,
            "_view_module_version": "1.2.0",
            "grid_template_areas": null,
            "object_position": null,
            "object_fit": null,
            "grid_auto_columns": null,
            "margin": null,
            "display": null,
            "left": null
          }
        },
        "d1691cc112544189aa4d7fe73d83c902": {
          "model_module": "@jupyter-widgets/controls",
          "model_name": "FloatProgressModel",
          "state": {
            "_view_name": "ProgressView",
            "style": "IPY_MODEL_a0bf40efcfb542e787af68f07689e383",
            "_dom_classes": [],
            "description": "Downloading: 100%",
            "_model_name": "FloatProgressModel",
            "bar_style": "success",
            "max": 791656,
            "_view_module": "@jupyter-widgets/controls",
            "_model_module_version": "1.5.0",
            "value": 791656,
            "_view_count": null,
            "_view_module_version": "1.5.0",
            "orientation": "horizontal",
            "min": 0,
            "description_tooltip": null,
            "_model_module": "@jupyter-widgets/controls",
            "layout": "IPY_MODEL_39dd09a4362f48a1a5df82dbaaaef451"
          }
        },
        "eb2c29a208b04aaa8c77d4227ce34157": {
          "model_module": "@jupyter-widgets/controls",
          "model_name": "HTMLModel",
          "state": {
            "_view_name": "HTMLView",
            "style": "IPY_MODEL_9d8a5c59d195418982748d93059be634",
            "_dom_classes": [],
            "description": "",
            "_model_name": "HTMLModel",
            "placeholder": "​",
            "_view_module": "@jupyter-widgets/controls",
            "_model_module_version": "1.5.0",
            "value": " 792k/792k [00:02&lt;00:00, 392kB/s]",
            "_view_count": null,
            "_view_module_version": "1.5.0",
            "description_tooltip": null,
            "_model_module": "@jupyter-widgets/controls",
            "layout": "IPY_MODEL_55201143085e43bb9966b5aaa7d2f6cd"
          }
        },
        "a0bf40efcfb542e787af68f07689e383": {
          "model_module": "@jupyter-widgets/controls",
          "model_name": "ProgressStyleModel",
          "state": {
            "_view_name": "StyleView",
            "_model_name": "ProgressStyleModel",
            "description_width": "initial",
            "_view_module": "@jupyter-widgets/base",
            "_model_module_version": "1.5.0",
            "_view_count": null,
            "_view_module_version": "1.2.0",
            "bar_color": null,
            "_model_module": "@jupyter-widgets/controls"
          }
        },
        "39dd09a4362f48a1a5df82dbaaaef451": {
          "model_module": "@jupyter-widgets/base",
          "model_name": "LayoutModel",
          "state": {
            "_view_name": "LayoutView",
            "grid_template_rows": null,
            "right": null,
            "justify_content": null,
            "_view_module": "@jupyter-widgets/base",
            "overflow": null,
            "_model_module_version": "1.2.0",
            "_view_count": null,
            "flex_flow": null,
            "width": null,
            "min_width": null,
            "border": null,
            "align_items": null,
            "bottom": null,
            "_model_module": "@jupyter-widgets/base",
            "top": null,
            "grid_column": null,
            "overflow_y": null,
            "overflow_x": null,
            "grid_auto_flow": null,
            "grid_area": null,
            "grid_template_columns": null,
            "flex": null,
            "_model_name": "LayoutModel",
            "justify_items": null,
            "grid_row": null,
            "max_height": null,
            "align_content": null,
            "visibility": null,
            "align_self": null,
            "height": null,
            "min_height": null,
            "padding": null,
            "grid_auto_rows": null,
            "grid_gap": null,
            "max_width": null,
            "order": null,
            "_view_module_version": "1.2.0",
            "grid_template_areas": null,
            "object_position": null,
            "object_fit": null,
            "grid_auto_columns": null,
            "margin": null,
            "display": null,
            "left": null
          }
        },
        "9d8a5c59d195418982748d93059be634": {
          "model_module": "@jupyter-widgets/controls",
          "model_name": "DescriptionStyleModel",
          "state": {
            "_view_name": "StyleView",
            "_model_name": "DescriptionStyleModel",
            "description_width": "",
            "_view_module": "@jupyter-widgets/base",
            "_model_module_version": "1.5.0",
            "_view_count": null,
            "_view_module_version": "1.2.0",
            "_model_module": "@jupyter-widgets/controls"
          }
        },
        "55201143085e43bb9966b5aaa7d2f6cd": {
          "model_module": "@jupyter-widgets/base",
          "model_name": "LayoutModel",
          "state": {
            "_view_name": "LayoutView",
            "grid_template_rows": null,
            "right": null,
            "justify_content": null,
            "_view_module": "@jupyter-widgets/base",
            "overflow": null,
            "_model_module_version": "1.2.0",
            "_view_count": null,
            "flex_flow": null,
            "width": null,
            "min_width": null,
            "border": null,
            "align_items": null,
            "bottom": null,
            "_model_module": "@jupyter-widgets/base",
            "top": null,
            "grid_column": null,
            "overflow_y": null,
            "overflow_x": null,
            "grid_auto_flow": null,
            "grid_area": null,
            "grid_template_columns": null,
            "flex": null,
            "_model_name": "LayoutModel",
            "justify_items": null,
            "grid_row": null,
            "max_height": null,
            "align_content": null,
            "visibility": null,
            "align_self": null,
            "height": null,
            "min_height": null,
            "padding": null,
            "grid_auto_rows": null,
            "grid_gap": null,
            "max_width": null,
            "order": null,
            "_view_module_version": "1.2.0",
            "grid_template_areas": null,
            "object_position": null,
            "object_fit": null,
            "grid_auto_columns": null,
            "margin": null,
            "display": null,
            "left": null
          }
        },
        "38402a513fea454e98a211fa0d900297": {
          "model_module": "@jupyter-widgets/controls",
          "model_name": "HBoxModel",
          "state": {
            "_view_name": "HBoxView",
            "_dom_classes": [],
            "_model_name": "HBoxModel",
            "_view_module": "@jupyter-widgets/controls",
            "_model_module_version": "1.5.0",
            "_view_count": null,
            "_view_module_version": "1.5.0",
            "box_style": "",
            "layout": "IPY_MODEL_61ccffce06044f78b6a5d07f751ef547",
            "_model_module": "@jupyter-widgets/controls",
            "children": [
              "IPY_MODEL_bef889b4f15a4b28a59dd01a90b9df40",
              "IPY_MODEL_f6f9af5e994b403088c17099081a7cd0"
            ]
          }
        },
        "61ccffce06044f78b6a5d07f751ef547": {
          "model_module": "@jupyter-widgets/base",
          "model_name": "LayoutModel",
          "state": {
            "_view_name": "LayoutView",
            "grid_template_rows": null,
            "right": null,
            "justify_content": null,
            "_view_module": "@jupyter-widgets/base",
            "overflow": null,
            "_model_module_version": "1.2.0",
            "_view_count": null,
            "flex_flow": null,
            "width": null,
            "min_width": null,
            "border": null,
            "align_items": null,
            "bottom": null,
            "_model_module": "@jupyter-widgets/base",
            "top": null,
            "grid_column": null,
            "overflow_y": null,
            "overflow_x": null,
            "grid_auto_flow": null,
            "grid_area": null,
            "grid_template_columns": null,
            "flex": null,
            "_model_name": "LayoutModel",
            "justify_items": null,
            "grid_row": null,
            "max_height": null,
            "align_content": null,
            "visibility": null,
            "align_self": null,
            "height": null,
            "min_height": null,
            "padding": null,
            "grid_auto_rows": null,
            "grid_gap": null,
            "max_width": null,
            "order": null,
            "_view_module_version": "1.2.0",
            "grid_template_areas": null,
            "object_position": null,
            "object_fit": null,
            "grid_auto_columns": null,
            "margin": null,
            "display": null,
            "left": null
          }
        },
        "bef889b4f15a4b28a59dd01a90b9df40": {
          "model_module": "@jupyter-widgets/controls",
          "model_name": "FloatProgressModel",
          "state": {
            "_view_name": "ProgressView",
            "style": "IPY_MODEL_86f90e9503d7494dbe3be1a8a2cb207f",
            "_dom_classes": [],
            "description": "Downloading: 100%",
            "_model_name": "FloatProgressModel",
            "bar_style": "success",
            "max": 1387488,
            "_view_module": "@jupyter-widgets/controls",
            "_model_module_version": "1.5.0",
            "value": 1387488,
            "_view_count": null,
            "_view_module_version": "1.5.0",
            "orientation": "horizontal",
            "min": 0,
            "description_tooltip": null,
            "_model_module": "@jupyter-widgets/controls",
            "layout": "IPY_MODEL_bb509ab965ad4f2ba5574303002cb98d"
          }
        },
        "f6f9af5e994b403088c17099081a7cd0": {
          "model_module": "@jupyter-widgets/controls",
          "model_name": "HTMLModel",
          "state": {
            "_view_name": "HTMLView",
            "style": "IPY_MODEL_193db5660435420cbb755e35fae60d26",
            "_dom_classes": [],
            "description": "",
            "_model_name": "HTMLModel",
            "placeholder": "​",
            "_view_module": "@jupyter-widgets/controls",
            "_model_module_version": "1.5.0",
            "value": " 1.39M/1.39M [00:01&lt;00:00, 1.25MB/s]",
            "_view_count": null,
            "_view_module_version": "1.5.0",
            "description_tooltip": null,
            "_model_module": "@jupyter-widgets/controls",
            "layout": "IPY_MODEL_5d75134f9755450ca599f5539a24a549"
          }
        },
        "86f90e9503d7494dbe3be1a8a2cb207f": {
          "model_module": "@jupyter-widgets/controls",
          "model_name": "ProgressStyleModel",
          "state": {
            "_view_name": "StyleView",
            "_model_name": "ProgressStyleModel",
            "description_width": "initial",
            "_view_module": "@jupyter-widgets/base",
            "_model_module_version": "1.5.0",
            "_view_count": null,
            "_view_module_version": "1.2.0",
            "bar_color": null,
            "_model_module": "@jupyter-widgets/controls"
          }
        },
        "bb509ab965ad4f2ba5574303002cb98d": {
          "model_module": "@jupyter-widgets/base",
          "model_name": "LayoutModel",
          "state": {
            "_view_name": "LayoutView",
            "grid_template_rows": null,
            "right": null,
            "justify_content": null,
            "_view_module": "@jupyter-widgets/base",
            "overflow": null,
            "_model_module_version": "1.2.0",
            "_view_count": null,
            "flex_flow": null,
            "width": null,
            "min_width": null,
            "border": null,
            "align_items": null,
            "bottom": null,
            "_model_module": "@jupyter-widgets/base",
            "top": null,
            "grid_column": null,
            "overflow_y": null,
            "overflow_x": null,
            "grid_auto_flow": null,
            "grid_area": null,
            "grid_template_columns": null,
            "flex": null,
            "_model_name": "LayoutModel",
            "justify_items": null,
            "grid_row": null,
            "max_height": null,
            "align_content": null,
            "visibility": null,
            "align_self": null,
            "height": null,
            "min_height": null,
            "padding": null,
            "grid_auto_rows": null,
            "grid_gap": null,
            "max_width": null,
            "order": null,
            "_view_module_version": "1.2.0",
            "grid_template_areas": null,
            "object_position": null,
            "object_fit": null,
            "grid_auto_columns": null,
            "margin": null,
            "display": null,
            "left": null
          }
        },
        "193db5660435420cbb755e35fae60d26": {
          "model_module": "@jupyter-widgets/controls",
          "model_name": "DescriptionStyleModel",
          "state": {
            "_view_name": "StyleView",
            "_model_name": "DescriptionStyleModel",
            "description_width": "",
            "_view_module": "@jupyter-widgets/base",
            "_model_module_version": "1.5.0",
            "_view_count": null,
            "_view_module_version": "1.2.0",
            "_model_module": "@jupyter-widgets/controls"
          }
        },
        "5d75134f9755450ca599f5539a24a549": {
          "model_module": "@jupyter-widgets/base",
          "model_name": "LayoutModel",
          "state": {
            "_view_name": "LayoutView",
            "grid_template_rows": null,
            "right": null,
            "justify_content": null,
            "_view_module": "@jupyter-widgets/base",
            "overflow": null,
            "_model_module_version": "1.2.0",
            "_view_count": null,
            "flex_flow": null,
            "width": null,
            "min_width": null,
            "border": null,
            "align_items": null,
            "bottom": null,
            "_model_module": "@jupyter-widgets/base",
            "top": null,
            "grid_column": null,
            "overflow_y": null,
            "overflow_x": null,
            "grid_auto_flow": null,
            "grid_area": null,
            "grid_template_columns": null,
            "flex": null,
            "_model_name": "LayoutModel",
            "justify_items": null,
            "grid_row": null,
            "max_height": null,
            "align_content": null,
            "visibility": null,
            "align_self": null,
            "height": null,
            "min_height": null,
            "padding": null,
            "grid_auto_rows": null,
            "grid_gap": null,
            "max_width": null,
            "order": null,
            "_view_module_version": "1.2.0",
            "grid_template_areas": null,
            "object_position": null,
            "object_fit": null,
            "grid_auto_columns": null,
            "margin": null,
            "display": null,
            "left": null
          }
        },
        "fa431a2ed0684a6a9dc2205f04c98485": {
          "model_module": "@jupyter-widgets/controls",
          "model_name": "HBoxModel",
          "state": {
            "_view_name": "HBoxView",
            "_dom_classes": [],
            "_model_name": "HBoxModel",
            "_view_module": "@jupyter-widgets/controls",
            "_model_module_version": "1.5.0",
            "_view_count": null,
            "_view_module_version": "1.5.0",
            "box_style": "",
            "layout": "IPY_MODEL_7e49324818874e2783fdaccf80e6c45c",
            "_model_module": "@jupyter-widgets/controls",
            "children": [
              "IPY_MODEL_9950fe806eee464685560e68e936eb68",
              "IPY_MODEL_cc634c45fd644cbca1632ca0e9bf116d"
            ]
          }
        },
        "7e49324818874e2783fdaccf80e6c45c": {
          "model_module": "@jupyter-widgets/base",
          "model_name": "LayoutModel",
          "state": {
            "_view_name": "LayoutView",
            "grid_template_rows": null,
            "right": null,
            "justify_content": null,
            "_view_module": "@jupyter-widgets/base",
            "overflow": null,
            "_model_module_version": "1.2.0",
            "_view_count": null,
            "flex_flow": null,
            "width": null,
            "min_width": null,
            "border": null,
            "align_items": null,
            "bottom": null,
            "_model_module": "@jupyter-widgets/base",
            "top": null,
            "grid_column": null,
            "overflow_y": null,
            "overflow_x": null,
            "grid_auto_flow": null,
            "grid_area": null,
            "grid_template_columns": null,
            "flex": null,
            "_model_name": "LayoutModel",
            "justify_items": null,
            "grid_row": null,
            "max_height": null,
            "align_content": null,
            "visibility": null,
            "align_self": null,
            "height": null,
            "min_height": null,
            "padding": null,
            "grid_auto_rows": null,
            "grid_gap": null,
            "max_width": null,
            "order": null,
            "_view_module_version": "1.2.0",
            "grid_template_areas": null,
            "object_position": null,
            "object_fit": null,
            "grid_auto_columns": null,
            "margin": null,
            "display": null,
            "left": null
          }
        },
        "9950fe806eee464685560e68e936eb68": {
          "model_module": "@jupyter-widgets/controls",
          "model_name": "FloatProgressModel",
          "state": {
            "_view_name": "ProgressView",
            "style": "IPY_MODEL_99e954a605c84e3990a21de2415e0bf4",
            "_dom_classes": [],
            "description": "Downloading: 100%",
            "_model_name": "FloatProgressModel",
            "bar_style": "success",
            "max": 1786,
            "_view_module": "@jupyter-widgets/controls",
            "_model_module_version": "1.5.0",
            "value": 1786,
            "_view_count": null,
            "_view_module_version": "1.5.0",
            "orientation": "horizontal",
            "min": 0,
            "description_tooltip": null,
            "_model_module": "@jupyter-widgets/controls",
            "layout": "IPY_MODEL_4d87c50793d2471fbed27c3a5d7714ad"
          }
        },
        "cc634c45fd644cbca1632ca0e9bf116d": {
          "model_module": "@jupyter-widgets/controls",
          "model_name": "HTMLModel",
          "state": {
            "_view_name": "HTMLView",
            "style": "IPY_MODEL_0d3b16c0ae1043f2bd51207f0fee3032",
            "_dom_classes": [],
            "description": "",
            "_model_name": "HTMLModel",
            "placeholder": "​",
            "_view_module": "@jupyter-widgets/controls",
            "_model_module_version": "1.5.0",
            "value": " 1.79k/1.79k [00:27&lt;00:00, 64.4B/s]",
            "_view_count": null,
            "_view_module_version": "1.5.0",
            "description_tooltip": null,
            "_model_module": "@jupyter-widgets/controls",
            "layout": "IPY_MODEL_8b19d1ad8c07440db359a865e68fa3c9"
          }
        },
        "99e954a605c84e3990a21de2415e0bf4": {
          "model_module": "@jupyter-widgets/controls",
          "model_name": "ProgressStyleModel",
          "state": {
            "_view_name": "StyleView",
            "_model_name": "ProgressStyleModel",
            "description_width": "initial",
            "_view_module": "@jupyter-widgets/base",
            "_model_module_version": "1.5.0",
            "_view_count": null,
            "_view_module_version": "1.2.0",
            "bar_color": null,
            "_model_module": "@jupyter-widgets/controls"
          }
        },
        "4d87c50793d2471fbed27c3a5d7714ad": {
          "model_module": "@jupyter-widgets/base",
          "model_name": "LayoutModel",
          "state": {
            "_view_name": "LayoutView",
            "grid_template_rows": null,
            "right": null,
            "justify_content": null,
            "_view_module": "@jupyter-widgets/base",
            "overflow": null,
            "_model_module_version": "1.2.0",
            "_view_count": null,
            "flex_flow": null,
            "width": null,
            "min_width": null,
            "border": null,
            "align_items": null,
            "bottom": null,
            "_model_module": "@jupyter-widgets/base",
            "top": null,
            "grid_column": null,
            "overflow_y": null,
            "overflow_x": null,
            "grid_auto_flow": null,
            "grid_area": null,
            "grid_template_columns": null,
            "flex": null,
            "_model_name": "LayoutModel",
            "justify_items": null,
            "grid_row": null,
            "max_height": null,
            "align_content": null,
            "visibility": null,
            "align_self": null,
            "height": null,
            "min_height": null,
            "padding": null,
            "grid_auto_rows": null,
            "grid_gap": null,
            "max_width": null,
            "order": null,
            "_view_module_version": "1.2.0",
            "grid_template_areas": null,
            "object_position": null,
            "object_fit": null,
            "grid_auto_columns": null,
            "margin": null,
            "display": null,
            "left": null
          }
        },
        "0d3b16c0ae1043f2bd51207f0fee3032": {
          "model_module": "@jupyter-widgets/controls",
          "model_name": "DescriptionStyleModel",
          "state": {
            "_view_name": "StyleView",
            "_model_name": "DescriptionStyleModel",
            "description_width": "",
            "_view_module": "@jupyter-widgets/base",
            "_model_module_version": "1.5.0",
            "_view_count": null,
            "_view_module_version": "1.2.0",
            "_model_module": "@jupyter-widgets/controls"
          }
        },
        "8b19d1ad8c07440db359a865e68fa3c9": {
          "model_module": "@jupyter-widgets/base",
          "model_name": "LayoutModel",
          "state": {
            "_view_name": "LayoutView",
            "grid_template_rows": null,
            "right": null,
            "justify_content": null,
            "_view_module": "@jupyter-widgets/base",
            "overflow": null,
            "_model_module_version": "1.2.0",
            "_view_count": null,
            "flex_flow": null,
            "width": null,
            "min_width": null,
            "border": null,
            "align_items": null,
            "bottom": null,
            "_model_module": "@jupyter-widgets/base",
            "top": null,
            "grid_column": null,
            "overflow_y": null,
            "overflow_x": null,
            "grid_auto_flow": null,
            "grid_area": null,
            "grid_template_columns": null,
            "flex": null,
            "_model_name": "LayoutModel",
            "justify_items": null,
            "grid_row": null,
            "max_height": null,
            "align_content": null,
            "visibility": null,
            "align_self": null,
            "height": null,
            "min_height": null,
            "padding": null,
            "grid_auto_rows": null,
            "grid_gap": null,
            "max_width": null,
            "order": null,
            "_view_module_version": "1.2.0",
            "grid_template_areas": null,
            "object_position": null,
            "object_fit": null,
            "grid_auto_columns": null,
            "margin": null,
            "display": null,
            "left": null
          }
        },
        "acf3f89bdf5c468c9602f562dd5038a9": {
          "model_module": "@jupyter-widgets/controls",
          "model_name": "HBoxModel",
          "state": {
            "_view_name": "HBoxView",
            "_dom_classes": [],
            "_model_name": "HBoxModel",
            "_view_module": "@jupyter-widgets/controls",
            "_model_module_version": "1.5.0",
            "_view_count": null,
            "_view_module_version": "1.5.0",
            "box_style": "",
            "layout": "IPY_MODEL_7d4bd87d4a034e3ea6a7c8254adbfa3e",
            "_model_module": "@jupyter-widgets/controls",
            "children": [
              "IPY_MODEL_8089bdf05ae547d1a8cd3abeb5cbca5b",
              "IPY_MODEL_d1f651cb9cef42e4927f810e0f7de02e"
            ]
          }
        },
        "7d4bd87d4a034e3ea6a7c8254adbfa3e": {
          "model_module": "@jupyter-widgets/base",
          "model_name": "LayoutModel",
          "state": {
            "_view_name": "LayoutView",
            "grid_template_rows": null,
            "right": null,
            "justify_content": null,
            "_view_module": "@jupyter-widgets/base",
            "overflow": null,
            "_model_module_version": "1.2.0",
            "_view_count": null,
            "flex_flow": null,
            "width": null,
            "min_width": null,
            "border": null,
            "align_items": null,
            "bottom": null,
            "_model_module": "@jupyter-widgets/base",
            "top": null,
            "grid_column": null,
            "overflow_y": null,
            "overflow_x": null,
            "grid_auto_flow": null,
            "grid_area": null,
            "grid_template_columns": null,
            "flex": null,
            "_model_name": "LayoutModel",
            "justify_items": null,
            "grid_row": null,
            "max_height": null,
            "align_content": null,
            "visibility": null,
            "align_self": null,
            "height": null,
            "min_height": null,
            "padding": null,
            "grid_auto_rows": null,
            "grid_gap": null,
            "max_width": null,
            "order": null,
            "_view_module_version": "1.2.0",
            "grid_template_areas": null,
            "object_position": null,
            "object_fit": null,
            "grid_auto_columns": null,
            "margin": null,
            "display": null,
            "left": null
          }
        },
        "8089bdf05ae547d1a8cd3abeb5cbca5b": {
          "model_module": "@jupyter-widgets/controls",
          "model_name": "FloatProgressModel",
          "state": {
            "_view_name": "ProgressView",
            "style": "IPY_MODEL_c32e0aa886944d609af197b4bfa3f3c1",
            "_dom_classes": [],
            "description": "Downloading: 100%",
            "_model_name": "FloatProgressModel",
            "bar_style": "success",
            "max": 891730879,
            "_view_module": "@jupyter-widgets/controls",
            "_model_module_version": "1.5.0",
            "value": 891730879,
            "_view_count": null,
            "_view_module_version": "1.5.0",
            "orientation": "horizontal",
            "min": 0,
            "description_tooltip": null,
            "_model_module": "@jupyter-widgets/controls",
            "layout": "IPY_MODEL_bc838e41a2a2411aa2e59afcdddcbad1"
          }
        },
        "d1f651cb9cef42e4927f810e0f7de02e": {
          "model_module": "@jupyter-widgets/controls",
          "model_name": "HTMLModel",
          "state": {
            "_view_name": "HTMLView",
            "style": "IPY_MODEL_64688a21935d4529bf07347b6f29d2d4",
            "_dom_classes": [],
            "description": "",
            "_model_name": "HTMLModel",
            "placeholder": "​",
            "_view_module": "@jupyter-widgets/controls",
            "_model_module_version": "1.5.0",
            "value": " 892M/892M [00:24&lt;00:00, 36.5MB/s]",
            "_view_count": null,
            "_view_module_version": "1.5.0",
            "description_tooltip": null,
            "_model_module": "@jupyter-widgets/controls",
            "layout": "IPY_MODEL_4514d46653104d4f8b04d7e80d5401ba"
          }
        },
        "c32e0aa886944d609af197b4bfa3f3c1": {
          "model_module": "@jupyter-widgets/controls",
          "model_name": "ProgressStyleModel",
          "state": {
            "_view_name": "StyleView",
            "_model_name": "ProgressStyleModel",
            "description_width": "initial",
            "_view_module": "@jupyter-widgets/base",
            "_model_module_version": "1.5.0",
            "_view_count": null,
            "_view_module_version": "1.2.0",
            "bar_color": null,
            "_model_module": "@jupyter-widgets/controls"
          }
        },
        "bc838e41a2a2411aa2e59afcdddcbad1": {
          "model_module": "@jupyter-widgets/base",
          "model_name": "LayoutModel",
          "state": {
            "_view_name": "LayoutView",
            "grid_template_rows": null,
            "right": null,
            "justify_content": null,
            "_view_module": "@jupyter-widgets/base",
            "overflow": null,
            "_model_module_version": "1.2.0",
            "_view_count": null,
            "flex_flow": null,
            "width": null,
            "min_width": null,
            "border": null,
            "align_items": null,
            "bottom": null,
            "_model_module": "@jupyter-widgets/base",
            "top": null,
            "grid_column": null,
            "overflow_y": null,
            "overflow_x": null,
            "grid_auto_flow": null,
            "grid_area": null,
            "grid_template_columns": null,
            "flex": null,
            "_model_name": "LayoutModel",
            "justify_items": null,
            "grid_row": null,
            "max_height": null,
            "align_content": null,
            "visibility": null,
            "align_self": null,
            "height": null,
            "min_height": null,
            "padding": null,
            "grid_auto_rows": null,
            "grid_gap": null,
            "max_width": null,
            "order": null,
            "_view_module_version": "1.2.0",
            "grid_template_areas": null,
            "object_position": null,
            "object_fit": null,
            "grid_auto_columns": null,
            "margin": null,
            "display": null,
            "left": null
          }
        },
        "64688a21935d4529bf07347b6f29d2d4": {
          "model_module": "@jupyter-widgets/controls",
          "model_name": "DescriptionStyleModel",
          "state": {
            "_view_name": "StyleView",
            "_model_name": "DescriptionStyleModel",
            "description_width": "",
            "_view_module": "@jupyter-widgets/base",
            "_model_module_version": "1.5.0",
            "_view_count": null,
            "_view_module_version": "1.2.0",
            "_model_module": "@jupyter-widgets/controls"
          }
        },
        "4514d46653104d4f8b04d7e80d5401ba": {
          "model_module": "@jupyter-widgets/base",
          "model_name": "LayoutModel",
          "state": {
            "_view_name": "LayoutView",
            "grid_template_rows": null,
            "right": null,
            "justify_content": null,
            "_view_module": "@jupyter-widgets/base",
            "overflow": null,
            "_model_module_version": "1.2.0",
            "_view_count": null,
            "flex_flow": null,
            "width": null,
            "min_width": null,
            "border": null,
            "align_items": null,
            "bottom": null,
            "_model_module": "@jupyter-widgets/base",
            "top": null,
            "grid_column": null,
            "overflow_y": null,
            "overflow_x": null,
            "grid_auto_flow": null,
            "grid_area": null,
            "grid_template_columns": null,
            "flex": null,
            "_model_name": "LayoutModel",
            "justify_items": null,
            "grid_row": null,
            "max_height": null,
            "align_content": null,
            "visibility": null,
            "align_self": null,
            "height": null,
            "min_height": null,
            "padding": null,
            "grid_auto_rows": null,
            "grid_gap": null,
            "max_width": null,
            "order": null,
            "_view_module_version": "1.2.0",
            "grid_template_areas": null,
            "object_position": null,
            "object_fit": null,
            "grid_auto_columns": null,
            "margin": null,
            "display": null,
            "left": null
          }
        }
      }
    }
  },
  "cells": [
    {
      "cell_type": "markdown",
      "metadata": {
        "id": "view-in-github",
        "colab_type": "text"
      },
      "source": [
        "<a href=\"https://colab.research.google.com/github/Janphadpu/puak/blob/main/styleformer_public.ipynb\" target=\"_parent\"><img src=\"https://colab.research.google.com/assets/colab-badge.svg\" alt=\"Open In Colab\"/></a>"
      ]
    },
    {
      "cell_type": "markdown",
      "metadata": {
        "id": "jUFpQNx73ysO"
      },
      "source": [
        "![full-screen-logo.jpg](data:image/jpeg;base64,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)"
      ]
    },
    {
      "cell_type": "markdown",
      "metadata": {
        "id": "EPZNLrhZitsz"
      },
      "source": [
        "By [Eric Fillion ](https://www.linkedin.com/in/ericfillion/) @ [Vennify.ai](https://www.vennify.ai/)\n"
      ]
    },
    {
      "cell_type": "markdown",
      "metadata": {
        "id": "N_Jm6pYLaPRB"
      },
      "source": [
        "Article: https://www.vennify.ai/how-to-use-styleformer/"
      ]
    },
    {
      "cell_type": "markdown",
      "metadata": {
        "id": "dQ4WYt3NkFjM"
      },
      "source": [
        "## Install"
      ]
    },
    {
      "cell_type": "markdown",
      "metadata": {
        "id": "4dzM3L56MUgj"
      },
      "source": [
        "https://github.com/PrithivirajDamodaran/Styleformer"
      ]
    },
    {
      "cell_type": "code",
      "metadata": {
        "id": "jvqFYV2jfGT0",
        "colab": {
          "base_uri": "https://localhost:8080/"
        },
        "outputId": "1b30d01a-3463-41f9-fcc2-824752a97874"
      },
      "source": [
        "pip install git+https://github.com/PrithivirajDamodaran/Styleformer.git\n"
      ],
      "execution_count": null,
      "outputs": [
        {
          "output_type": "stream",
          "text": [
            "Collecting git+https://github.com/PrithivirajDamodaran/Styleformer.git\n",
            "  Cloning https://github.com/PrithivirajDamodaran/Styleformer.git to /tmp/pip-req-build-e7ud8qb5\n",
            "  Running command git clone -q https://github.com/PrithivirajDamodaran/Styleformer.git /tmp/pip-req-build-e7ud8qb5\n",
            "Requirement already satisfied: transformers in /usr/local/lib/python3.7/dist-packages (from styleformer==0.1) (4.9.1)\n",
            "Requirement already satisfied: sentencepiece in /usr/local/lib/python3.7/dist-packages (from styleformer==0.1) (0.1.96)\n",
            "Requirement already satisfied: python-Levenshtein in /usr/local/lib/python3.7/dist-packages (from styleformer==0.1) (0.12.2)\n",
            "Requirement already satisfied: fuzzywuzzy in /usr/local/lib/python3.7/dist-packages (from styleformer==0.1) (0.18.0)\n",
            "Requirement already satisfied: setuptools in /usr/local/lib/python3.7/dist-packages (from python-Levenshtein->styleformer==0.1) (57.2.0)\n",
            "Requirement already satisfied: requests in /usr/local/lib/python3.7/dist-packages (from transformers->styleformer==0.1) (2.23.0)\n",
            "Requirement already satisfied: tqdm>=4.27 in /usr/local/lib/python3.7/dist-packages (from transformers->styleformer==0.1) (4.41.1)\n",
            "Requirement already satisfied: pyyaml>=5.1 in /usr/local/lib/python3.7/dist-packages (from transformers->styleformer==0.1) (5.4.1)\n",
            "Requirement already satisfied: filelock in /usr/local/lib/python3.7/dist-packages (from transformers->styleformer==0.1) (3.0.12)\n",
            "Requirement already satisfied: packaging in /usr/local/lib/python3.7/dist-packages (from transformers->styleformer==0.1) (21.0)\n",
            "Requirement already satisfied: huggingface-hub==0.0.12 in /usr/local/lib/python3.7/dist-packages (from transformers->styleformer==0.1) (0.0.12)\n",
            "Requirement already satisfied: regex!=2019.12.17 in /usr/local/lib/python3.7/dist-packages (from transformers->styleformer==0.1) (2019.12.20)\n",
            "Requirement already satisfied: numpy>=1.17 in /usr/local/lib/python3.7/dist-packages (from transformers->styleformer==0.1) (1.19.5)\n",
            "Requirement already satisfied: importlib-metadata in /usr/local/lib/python3.7/dist-packages (from transformers->styleformer==0.1) (4.6.1)\n",
            "Requirement already satisfied: tokenizers<0.11,>=0.10.1 in /usr/local/lib/python3.7/dist-packages (from transformers->styleformer==0.1) (0.10.3)\n",
            "Requirement already satisfied: sacremoses in /usr/local/lib/python3.7/dist-packages (from transformers->styleformer==0.1) (0.0.45)\n",
            "Requirement already satisfied: typing-extensions in /usr/local/lib/python3.7/dist-packages (from huggingface-hub==0.0.12->transformers->styleformer==0.1) (3.7.4.3)\n",
            "Requirement already satisfied: pyparsing>=2.0.2 in /usr/local/lib/python3.7/dist-packages (from packaging->transformers->styleformer==0.1) (2.4.7)\n",
            "Requirement already satisfied: zipp>=0.5 in /usr/local/lib/python3.7/dist-packages (from importlib-metadata->transformers->styleformer==0.1) (3.5.0)\n",
            "Requirement already satisfied: urllib3!=1.25.0,!=1.25.1,<1.26,>=1.21.1 in /usr/local/lib/python3.7/dist-packages (from requests->transformers->styleformer==0.1) (1.24.3)\n",
            "Requirement already satisfied: idna<3,>=2.5 in /usr/local/lib/python3.7/dist-packages (from requests->transformers->styleformer==0.1) (2.10)\n",
            "Requirement already satisfied: chardet<4,>=3.0.2 in /usr/local/lib/python3.7/dist-packages (from requests->transformers->styleformer==0.1) (3.0.4)\n",
            "Requirement already satisfied: certifi>=2017.4.17 in /usr/local/lib/python3.7/dist-packages (from requests->transformers->styleformer==0.1) (2021.5.30)\n",
            "Requirement already satisfied: six in /usr/local/lib/python3.7/dist-packages (from sacremoses->transformers->styleformer==0.1) (1.15.0)\n",
            "Requirement already satisfied: joblib in /usr/local/lib/python3.7/dist-packages (from sacremoses->transformers->styleformer==0.1) (1.0.1)\n",
            "Requirement already satisfied: click in /usr/local/lib/python3.7/dist-packages (from sacremoses->transformers->styleformer==0.1) (7.1.2)\n"
          ],
          "name": "stdout"
        }
      ]
    },
    {
      "cell_type": "code",
      "metadata": {
        "id": "ueN4tf9PfMsx"
      },
      "source": [
        "from styleformer import Styleformer"
      ],
      "execution_count": null,
      "outputs": []
    },
    {
      "cell_type": "markdown",
      "metadata": {
        "id": "TUoEITwbkCdT"
      },
      "source": [
        "## Casual To Formal"
      ]
    },
    {
      "cell_type": "code",
      "metadata": {
        "id": "j2jJNWYcfVB8",
        "colab": {
          "base_uri": "https://localhost:8080/",
          "height": 622,
          "referenced_widgets": [
            "2864a16028824f3988853e6932eddb3e",
            "bca4474bc5e3414da956e681a07bd683",
            "fba9f496ac3c4693a9d46526fc35f543",
            "bdc6bb02002c4ccebb31fafc429bc981",
            "bef15eeffc084d9a9a17d448aa824411",
            "8586b5860e514ba48a3783d148b9165f",
            "1c8a32ef047745beb305ad44c6a36b94",
            "9d570199868248de876f99268f46ee3b",
            "684988ab863e4c03ab3f9fbd731685dd",
            "6c93d432b76c42e6bc9a35d65c176b1d",
            "8ce930f8c95f405c8b63a24cb03c5839",
            "c343bcc55d13409f9572c118bb50ebd3",
            "d41427b35498438ba584ad04b86716fa",
            "ffe49471f56947cba4c8abd87c622dd9",
            "8761806086c041c2826199baaf7b8b07",
            "7bfdfd9b6d25445eb67547bdd490daad",
            "ed120fd19e3544aeb63eac66023c004e",
            "c66e75a03cad49a2b77ab5f4e7c83afb",
            "1236a2accd374c2894989d2fd43a6640",
            "e643056b7c024804a084f4e339b74368",
            "348be3257930407d998d5eddeaf3d3d7",
            "edc446612d124b74bd3d0256d527fa2b",
            "096489c11dcb4a6880bca7c8c768461e",
            "78e8c06e298f4273bfc136c856b8fdda",
            "f6a6dc913cd44260911ee5f042103949",
            "9843d6dcfe0a44f2be5c672de8bf56f2",
            "b6cca1ba526442b486061a4c24a3b183",
            "cb455e3a05c94b1199387713af08085b",
            "2c1a5c70f44d4bfabfccd8fb41b5cb33",
            "e2930bbbce98472bb53d394ea2cb7f0a",
            "3058e24b2c7747db8ba71aecf556c559",
            "8e6f050b64334fa4ad03cf1b1449b732",
            "70162e3e8c9c4416a24a11f11e1c0c35",
            "753e961936854367997f1deca733bcb5",
            "5bca7888d38f4131b51e83abb6d7273d",
            "b4d5c7d44349471cb9abb84691334448",
            "50d744fac6cc4af086b01579267a93cc",
            "60a403d74770480881e01883a67fa32d",
            "db63016f4268465386a848cd09a91873",
            "767f364122a0462db2908a1152f6389e",
            "54e830a702a04a73bef40624d586c260",
            "1652160c55c94d979ca341df06fcd532",
            "058cedee78384bbc80a609b559a10974",
            "39efd8739deb49ab9be0cefcd4e68b06",
            "2765743663b84607b591ce4986c14b20",
            "296aefcf46a34783b9141d0c94dc1388",
            "8ac9c5a11a48483ba74675ee4558cb44",
            "fbc576f125ee46d5b4d16e610469b968",
            "f333dbc822a343789ac2d00a6a0e3471",
            "d3908c6d21bf41dca89e8901baa47d9b",
            "62307edd9d324c63ba371f21e6043933",
            "63e146bd1c254e529aa05898825fa2ba",
            "d580b7da13ec42bbaabd8e73a0524383",
            "07326a7238d7467280dbb64558b90671",
            "9b17ca023dd846b0ad78ebffd0901eac",
            "1e43eeb788ed4e9ab15f5a9e538c6093",
            "e1511d72ce2d4b6d96a5e31f28ed2c3c",
            "f295f6faa6a048f78eed83e4b13e08ed",
            "6070ada0afa84fb0a77cf56b58b06f9e",
            "d01110e28bfb4a29aaf99154bc6662f1",
            "60605ac21d8a49e0977370bc003ad718",
            "afbb299c313e494089d96d6d0f6ed2a7",
            "891fb4a2dbed47c2be2df1425fbfc397",
            "26bc0195bcd6464fa5b59c543bd689db",
            "ba07098a163b471d86cfd376575931c3",
            "86f2819afa7d4e98a1da66f434d38e02",
            "457e756fb191466f87d10d4a265dfe9f",
            "12f778ee110648baba823a5178bdd2dd",
            "61d96fe53224441bb67698026d783b72",
            "9de2f679c5514f4292f9ad2930e74f6d",
            "31c74b3385f04079a611ca8191aa95e7",
            "6174e7d51de1499f891a971cecada75e",
            "e83ec8719e65405fb45e07d5fef22c3f",
            "5a58e7ba0cd7494d8802434120678533",
            "8e699be57bdb4e2688164db4e8cc1922",
            "b63a7934ba754adc8210cef420ffd957",
            "5339243bcc0642a6a1146161979661f8",
            "f604e99e54f142699267384d7f2732ec",
            "5add153f029741e495ebc7c911d3a3a2",
            "43ddcf4b3a4646e586551c58a55c2620",
            "5c6cec94a645429a96f33fa1e6ff26eb",
            "7ffa389584f84dc3b0fe79648d21033d",
            "ac3967313fa9430c9c5fe4cdbe51c286",
            "ff15fc6c5812485ab18f491f0b0ef941",
            "8884f919dd4c4605b5b8b34b03ecdd98",
            "6ad8febfd64a4fa7880f283ddaeda458",
            "fb55abff3aab4e05981165c1b46a36d8",
            "7fbe5949bc4d471a9a7d014debbb9f63",
            "dc9e6d7d2a234cfeb279dba866192c2f",
            "a97bd44d405e449da5cdaf7e75e34f02",
            "41fb749307784cfb9bfec3fa712c69cd",
            "a2a127ef6f134dda9906d1aff6d758ef",
            "e9501ea5cf3b49a2901e8f3d0d3a346c",
            "eac0e02df91340c4a87bac8df9f6092b",
            "968a354c6801417c945b55b9878c76a6",
            "c2ba1349b6204ed285a35d40b54e9696"
          ]
        },
        "outputId": "671daeac-7fe9-4d51-bc54-e903fbba81be"
      },
      "source": [
        "styleformer_c_t_f = Styleformer(style=0)"
      ],
      "execution_count": null,
      "outputs": [
        {
          "output_type": "display_data",
          "data": {
            "application/vnd.jupyter.widget-view+json": {
              "model_id": "2864a16028824f3988853e6932eddb3e",
              "version_minor": 0,
              "version_major": 2
            },
            "text/plain": [
              "HBox(children=(FloatProgress(value=0.0, description='Downloading', max=908.0, style=ProgressStyle(description_…"
            ]
          },
          "metadata": {
            "tags": []
          }
        },
        {
          "output_type": "stream",
          "text": [
            "\n"
          ],
          "name": "stdout"
        },
        {
          "output_type": "display_data",
          "data": {
            "application/vnd.jupyter.widget-view+json": {
              "model_id": "684988ab863e4c03ab3f9fbd731685dd",
              "version_minor": 0,
              "version_major": 2
            },
            "text/plain": [
              "HBox(children=(FloatProgress(value=0.0, description='Downloading', max=1629486723.0, style=ProgressStyle(descr…"
            ]
          },
          "metadata": {
            "tags": []
          }
        },
        {
          "output_type": "stream",
          "text": [
            "\n"
          ],
          "name": "stdout"
        },
        {
          "output_type": "display_data",
          "data": {
            "application/vnd.jupyter.widget-view+json": {
              "model_id": "ed120fd19e3544aeb63eac66023c004e",
              "version_minor": 0,
              "version_major": 2
            },
            "text/plain": [
              "HBox(children=(FloatProgress(value=0.0, description='Downloading', max=26.0, style=ProgressStyle(description_w…"
            ]
          },
          "metadata": {
            "tags": []
          }
        },
        {
          "output_type": "stream",
          "text": [
            "\n"
          ],
          "name": "stdout"
        },
        {
          "output_type": "display_data",
          "data": {
            "application/vnd.jupyter.widget-view+json": {
              "model_id": "f6a6dc913cd44260911ee5f042103949",
              "version_minor": 0,
              "version_major": 2
            },
            "text/plain": [
              "HBox(children=(FloatProgress(value=0.0, description='Downloading', max=898822.0, style=ProgressStyle(descripti…"
            ]
          },
          "metadata": {
            "tags": []
          }
        },
        {
          "output_type": "stream",
          "text": [
            "\n"
          ],
          "name": "stdout"
        },
        {
          "output_type": "display_data",
          "data": {
            "application/vnd.jupyter.widget-view+json": {
              "model_id": "70162e3e8c9c4416a24a11f11e1c0c35",
              "version_minor": 0,
              "version_major": 2
            },
            "text/plain": [
              "HBox(children=(FloatProgress(value=0.0, description='Downloading', max=456318.0, style=ProgressStyle(descripti…"
            ]
          },
          "metadata": {
            "tags": []
          }
        },
        {
          "output_type": "stream",
          "text": [
            "\n"
          ],
          "name": "stdout"
        },
        {
          "output_type": "display_data",
          "data": {
            "application/vnd.jupyter.widget-view+json": {
              "model_id": "54e830a702a04a73bef40624d586c260",
              "version_minor": 0,
              "version_major": 2
            },
            "text/plain": [
              "HBox(children=(FloatProgress(value=0.0, description='Downloading', max=1355863.0, style=ProgressStyle(descript…"
            ]
          },
          "metadata": {
            "tags": []
          }
        },
        {
          "output_type": "stream",
          "text": [
            "\n"
          ],
          "name": "stdout"
        },
        {
          "output_type": "display_data",
          "data": {
            "application/vnd.jupyter.widget-view+json": {
              "model_id": "f333dbc822a343789ac2d00a6a0e3471",
              "version_minor": 0,
              "version_major": 2
            },
            "text/plain": [
              "HBox(children=(FloatProgress(value=0.0, description='Downloading', max=1889.0, style=ProgressStyle(description…"
            ]
          },
          "metadata": {
            "tags": []
          }
        },
        {
          "output_type": "stream",
          "text": [
            "\n"
          ],
          "name": "stdout"
        },
        {
          "output_type": "display_data",
          "data": {
            "application/vnd.jupyter.widget-view+json": {
              "model_id": "e1511d72ce2d4b6d96a5e31f28ed2c3c",
              "version_minor": 0,
              "version_major": 2
            },
            "text/plain": [
              "HBox(children=(FloatProgress(value=0.0, description='Downloading', max=1388.0, style=ProgressStyle(description…"
            ]
          },
          "metadata": {
            "tags": []
          }
        },
        {
          "output_type": "stream",
          "text": [
            "\n"
          ],
          "name": "stdout"
        },
        {
          "output_type": "display_data",
          "data": {
            "application/vnd.jupyter.widget-view+json": {
              "model_id": "ba07098a163b471d86cfd376575931c3",
              "version_minor": 0,
              "version_major": 2
            },
            "text/plain": [
              "HBox(children=(FloatProgress(value=0.0, description='Downloading', max=791656.0, style=ProgressStyle(descripti…"
            ]
          },
          "metadata": {
            "tags": []
          }
        },
        {
          "output_type": "stream",
          "text": [
            "\n"
          ],
          "name": "stdout"
        },
        {
          "output_type": "display_data",
          "data": {
            "application/vnd.jupyter.widget-view+json": {
              "model_id": "e83ec8719e65405fb45e07d5fef22c3f",
              "version_minor": 0,
              "version_major": 2
            },
            "text/plain": [
              "HBox(children=(FloatProgress(value=0.0, description='Downloading', max=1387488.0, style=ProgressStyle(descript…"
            ]
          },
          "metadata": {
            "tags": []
          }
        },
        {
          "output_type": "stream",
          "text": [
            "\n"
          ],
          "name": "stdout"
        },
        {
          "output_type": "display_data",
          "data": {
            "application/vnd.jupyter.widget-view+json": {
              "model_id": "5c6cec94a645429a96f33fa1e6ff26eb",
              "version_minor": 0,
              "version_major": 2
            },
            "text/plain": [
              "HBox(children=(FloatProgress(value=0.0, description='Downloading', max=1786.0, style=ProgressStyle(description…"
            ]
          },
          "metadata": {
            "tags": []
          }
        },
        {
          "output_type": "stream",
          "text": [
            "\n"
          ],
          "name": "stdout"
        },
        {
          "output_type": "display_data",
          "data": {
            "application/vnd.jupyter.widget-view+json": {
              "model_id": "dc9e6d7d2a234cfeb279dba866192c2f",
              "version_minor": 0,
              "version_major": 2
            },
            "text/plain": [
              "HBox(children=(FloatProgress(value=0.0, description='Downloading', max=891730879.0, style=ProgressStyle(descri…"
            ]
          },
          "metadata": {
            "tags": []
          }
        },
        {
          "output_type": "stream",
          "text": [
            "\n",
            "Casual to Formal model loaded...\n"
          ],
          "name": "stdout"
        }
      ]
    },
    {
      "cell_type": "code",
      "metadata": {
        "id": "Qlew249pfW9F",
        "colab": {
          "base_uri": "https://localhost:8080/"
        },
        "outputId": "361a1465-14d0-4488-f7f8-2b59f2c7b48d"
      },
      "source": [
        "result_1 = styleformer_c_t_f.transfer(\"Yo, I love coding in Python.\")"
      ],
      "execution_count": null,
      "outputs": [
        {
          "output_type": "stream",
          "text": [
            "/usr/local/lib/python3.7/dist-packages/transformers/tokenization_utils_base.py:2218: FutureWarning: The `truncation_strategy` argument is deprecated and will be removed in a future version, use `truncation=True` to truncate examples to a max length. You can give a specific length with `max_length` (e.g. `max_length=45`) or leave max_length to None to truncate to the maximal input size of the model (e.g. 512 for Bert).  If you have pairs of inputs, you can give a specific truncation strategy selected among `truncation='only_first'` (will only truncate the first sentence in the pairs) `truncation='only_second'` (will only truncate the second sentence in the pairs) or `truncation='longest_first'` (will iteratively remove tokens from the longest sentence in the pairs).\n",
            "  FutureWarning,\n"
          ],
          "name": "stderr"
        }
      ]
    },
    {
      "cell_type": "code",
      "metadata": {
        "id": "MV7GOwi6fcux",
        "colab": {
          "base_uri": "https://localhost:8080/"
        },
        "outputId": "239ae89e-4604-4537-d687-08e32fa5df1b"
      },
      "source": [
        "print(result_1)"
      ],
      "execution_count": null,
      "outputs": [
        {
          "output_type": "stream",
          "text": [
            "Yes, I enjoy programming in Python.\n"
          ],
          "name": "stdout"
        }
      ]
    },
    {
      "cell_type": "markdown",
      "metadata": {
        "id": "19_LureVkBRF"
      },
      "source": [
        "## Formal To Casual"
      ]
    },
    {
      "cell_type": "code",
      "metadata": {
        "id": "1Yu7W1vckN6o",
        "colab": {
          "base_uri": "https://localhost:8080/",
          "height": 328,
          "referenced_widgets": [
            "f19eb17c85624b9883b071160303ab23",
            "5f6e62e4a3b940599ce1fa07c7eb71c9",
            "0ba78f406bf04b2483e43e1f23c6a75e",
            "b6e74f5199964d4a8baa87d998a93823",
            "26dc391effb148d6a840bb3c57fa1b9c",
            "40e43f64f6f6467890c5456ba4828546",
            "f211447bdac34839ab647e2a84583a50",
            "b7e59d77b5e04b2f94a3f91a3d2490e2",
            "a2250cec643a4d03adac70965aa7be1d",
            "d226311f572841f3ad82c901cd6ed734",
            "e8563665f1104fc4b96c18dbf68ece85",
            "ac0bcdebe2504dbf944cf53a81c3c94b",
            "d923b407cff546e18e2f958b53fe7ea1",
            "1af43236346e455782ce0a2977abb9fd",
            "1ba031fe38904c4c8cdecbdcefc36134",
            "9fa09bb8b94545ea86a12c1c3f57f2dd",
            "2e0f1e07da4e4b558396c26971475418",
            "3826b8627efb4bc0aee98e6b6e473ab7",
            "d1691cc112544189aa4d7fe73d83c902",
            "eb2c29a208b04aaa8c77d4227ce34157",
            "a0bf40efcfb542e787af68f07689e383",
            "39dd09a4362f48a1a5df82dbaaaef451",
            "9d8a5c59d195418982748d93059be634",
            "55201143085e43bb9966b5aaa7d2f6cd",
            "38402a513fea454e98a211fa0d900297",
            "61ccffce06044f78b6a5d07f751ef547",
            "bef889b4f15a4b28a59dd01a90b9df40",
            "f6f9af5e994b403088c17099081a7cd0",
            "86f90e9503d7494dbe3be1a8a2cb207f",
            "bb509ab965ad4f2ba5574303002cb98d",
            "193db5660435420cbb755e35fae60d26",
            "5d75134f9755450ca599f5539a24a549",
            "fa431a2ed0684a6a9dc2205f04c98485",
            "7e49324818874e2783fdaccf80e6c45c",
            "9950fe806eee464685560e68e936eb68",
            "cc634c45fd644cbca1632ca0e9bf116d",
            "99e954a605c84e3990a21de2415e0bf4",
            "4d87c50793d2471fbed27c3a5d7714ad",
            "0d3b16c0ae1043f2bd51207f0fee3032",
            "8b19d1ad8c07440db359a865e68fa3c9",
            "acf3f89bdf5c468c9602f562dd5038a9",
            "7d4bd87d4a034e3ea6a7c8254adbfa3e",
            "8089bdf05ae547d1a8cd3abeb5cbca5b",
            "d1f651cb9cef42e4927f810e0f7de02e",
            "c32e0aa886944d609af197b4bfa3f3c1",
            "bc838e41a2a2411aa2e59afcdddcbad1",
            "64688a21935d4529bf07347b6f29d2d4",
            "4514d46653104d4f8b04d7e80d5401ba"
          ]
        },
        "outputId": "de36c982-548f-410e-8fe9-ecd3a23283b8"
      },
      "source": [
        "styleformer_f_t_c = Styleformer(style=1)"
      ],
      "execution_count": null,
      "outputs": [
        {
          "output_type": "display_data",
          "data": {
            "application/vnd.jupyter.widget-view+json": {
              "model_id": "f19eb17c85624b9883b071160303ab23",
              "version_minor": 0,
              "version_major": 2
            },
            "text/plain": [
              "HBox(children=(FloatProgress(value=0.0, description='Downloading', max=1889.0, style=ProgressStyle(description…"
            ]
          },
          "metadata": {
            "tags": []
          }
        },
        {
          "output_type": "stream",
          "text": [
            "\n"
          ],
          "name": "stdout"
        },
        {
          "output_type": "display_data",
          "data": {
            "application/vnd.jupyter.widget-view+json": {
              "model_id": "a2250cec643a4d03adac70965aa7be1d",
              "version_minor": 0,
              "version_major": 2
            },
            "text/plain": [
              "HBox(children=(FloatProgress(value=0.0, description='Downloading', max=1388.0, style=ProgressStyle(description…"
            ]
          },
          "metadata": {
            "tags": []
          }
        },
        {
          "output_type": "stream",
          "text": [
            "\n"
          ],
          "name": "stdout"
        },
        {
          "output_type": "display_data",
          "data": {
            "application/vnd.jupyter.widget-view+json": {
              "model_id": "2e0f1e07da4e4b558396c26971475418",
              "version_minor": 0,
              "version_major": 2
            },
            "text/plain": [
              "HBox(children=(FloatProgress(value=0.0, description='Downloading', max=791656.0, style=ProgressStyle(descripti…"
            ]
          },
          "metadata": {
            "tags": []
          }
        },
        {
          "output_type": "stream",
          "text": [
            "\n"
          ],
          "name": "stdout"
        },
        {
          "output_type": "display_data",
          "data": {
            "application/vnd.jupyter.widget-view+json": {
              "model_id": "38402a513fea454e98a211fa0d900297",
              "version_minor": 0,
              "version_major": 2
            },
            "text/plain": [
              "HBox(children=(FloatProgress(value=0.0, description='Downloading', max=1387488.0, style=ProgressStyle(descript…"
            ]
          },
          "metadata": {
            "tags": []
          }
        },
        {
          "output_type": "stream",
          "text": [
            "\n"
          ],
          "name": "stdout"
        },
        {
          "output_type": "display_data",
          "data": {
            "application/vnd.jupyter.widget-view+json": {
              "model_id": "fa431a2ed0684a6a9dc2205f04c98485",
              "version_minor": 0,
              "version_major": 2
            },
            "text/plain": [
              "HBox(children=(FloatProgress(value=0.0, description='Downloading', max=1786.0, style=ProgressStyle(description…"
            ]
          },
          "metadata": {
            "tags": []
          }
        },
        {
          "output_type": "stream",
          "text": [
            "\n"
          ],
          "name": "stdout"
        },
        {
          "output_type": "display_data",
          "data": {
            "application/vnd.jupyter.widget-view+json": {
              "model_id": "acf3f89bdf5c468c9602f562dd5038a9",
              "version_minor": 0,
              "version_major": 2
            },
            "text/plain": [
              "HBox(children=(FloatProgress(value=0.0, description='Downloading', max=891730879.0, style=ProgressStyle(descri…"
            ]
          },
          "metadata": {
            "tags": []
          }
        },
        {
          "output_type": "stream",
          "text": [
            "\n",
            "Formal to Casual model loaded...\n"
          ],
          "name": "stdout"
        }
      ]
    },
    {
      "cell_type": "code",
      "metadata": {
        "id": "iC_Sxbpjl7Y1",
        "colab": {
          "base_uri": "https://localhost:8080/"
        },
        "outputId": "531adfc6-e1b0-49bc-c243-0e4cc6bd17b4"
      },
      "source": [
        "result_2 = styleformer_f_t_c.transfer(\"Let's discuss our plans for this evening\", inference_on=1)"
      ],
      "execution_count": null,
      "outputs": [
        {
          "output_type": "stream",
          "text": [
            "/usr/local/lib/python3.7/dist-packages/transformers/tokenization_utils_base.py:2218: FutureWarning: The `truncation_strategy` argument is deprecated and will be removed in a future version, use `truncation=True` to truncate examples to a max length. You can give a specific length with `max_length` (e.g. `max_length=45`) or leave max_length to None to truncate to the maximal input size of the model (e.g. 512 for Bert).  If you have pairs of inputs, you can give a specific truncation strategy selected among `truncation='only_first'` (will only truncate the first sentence in the pairs) `truncation='only_second'` (will only truncate the second sentence in the pairs) or `truncation='longest_first'` (will iteratively remove tokens from the longest sentence in the pairs).\n",
            "  FutureWarning,\n"
          ],
          "name": "stderr"
        }
      ]
    },
    {
      "cell_type": "code",
      "metadata": {
        "colab": {
          "base_uri": "https://localhost:8080/"
        },
        "id": "VyxnWMOjlL9h",
        "outputId": "ec683afe-a788-4695-93c7-556e8e284877"
      },
      "source": [
        "print(result_2)"
      ],
      "execution_count": null,
      "outputs": [
        {
          "output_type": "stream",
          "text": [
            "So what are we going to do tonight?\n"
          ],
          "name": "stdout"
        }
      ]
    },
    {
      "cell_type": "markdown",
      "metadata": {
        "id": "v5QTEcRHUsn9"
      },
      "source": [
        "## Multiple Sentences"
      ]
    },
    {
      "cell_type": "markdown",
      "metadata": {
        "id": "Te4HAAo-pJ1F"
      },
      "source": [
        "Quick TextBlob tutorial: https://youtu.be/QsW9jdXvA3E"
      ]
    },
    {
      "cell_type": "markdown",
      "metadata": {
        "id": "1vXEJb81pOpc"
      },
      "source": [
        "Full course: https://www.udemy.com/course/textblob-nlp/?couponCode=TEXTBLOB"
      ]
    },
    {
      "cell_type": "code",
      "metadata": {
        "id": "MhPAGMHUUv1U",
        "colab": {
          "base_uri": "https://localhost:8080/"
        },
        "outputId": "df32222f-bc8d-41d2-af71-fecb4e111c6b"
      },
      "source": [
        "pip install textblob\n"
      ],
      "execution_count": null,
      "outputs": [
        {
          "output_type": "stream",
          "text": [
            "Requirement already satisfied: textblob in /usr/local/lib/python3.7/dist-packages (0.15.3)\n",
            "Requirement already satisfied: nltk>=3.1 in /usr/local/lib/python3.7/dist-packages (from textblob) (3.2.5)\n",
            "Requirement already satisfied: six in /usr/local/lib/python3.7/dist-packages (from nltk>=3.1->textblob) (1.15.0)\n"
          ],
          "name": "stdout"
        }
      ]
    },
    {
      "cell_type": "code",
      "metadata": {
        "id": "GL9hQi5qUxTv"
      },
      "source": [
        "from textblob import TextBlob\n"
      ],
      "execution_count": null,
      "outputs": []
    },
    {
      "cell_type": "code",
      "metadata": {
        "id": "7-HRN83GVBHw"
      },
      "source": [
        "text = \"Hey man, what's up? We should hang out and watch the Olympics. Then maybe go grab some food\"\n",
        "\n",
        "blob = TextBlob(text)\n"
      ],
      "execution_count": null,
      "outputs": []
    },
    {
      "cell_type": "code",
      "metadata": {
        "id": "Hvq_7TwOVq2n",
        "colab": {
          "base_uri": "https://localhost:8080/"
        },
        "outputId": "09d04627-eca0-4d9d-ad4c-5fd2001b9c86"
      },
      "source": [
        "import nltk\n",
        "\n",
        "nltk.download('punkt')"
      ],
      "execution_count": null,
      "outputs": [
        {
          "output_type": "stream",
          "text": [
            "[nltk_data] Downloading package punkt to /root/nltk_data...\n",
            "[nltk_data]   Unzipping tokenizers/punkt.zip.\n"
          ],
          "name": "stdout"
        },
        {
          "output_type": "execute_result",
          "data": {
            "text/plain": [
              "True"
            ]
          },
          "metadata": {
            "tags": []
          },
          "execution_count": 18
        }
      ]
    },
    {
      "cell_type": "code",
      "metadata": {
        "id": "iBJmbLTUVsgd",
        "colab": {
          "base_uri": "https://localhost:8080/"
        },
        "outputId": "ecb2ac96-adad-4492-cf79-a1a70e8899ba"
      },
      "source": [
        "result_4_list = []\n",
        "\n",
        "for sent in blob.sentences:\n",
        "  temp_result = styleformer_c_t_f.transfer(sent.string)\n",
        "  result_4_list.append(temp_result)\n",
        "  \n",
        "result_4 = \" \".join(result_4_list)\n",
        "print(result_4)"
      ],
      "execution_count": null,
      "outputs": [
        {
          "output_type": "stream",
          "text": [
            "/usr/local/lib/python3.7/dist-packages/transformers/tokenization_utils_base.py:2218: FutureWarning: The `truncation_strategy` argument is deprecated and will be removed in a future version, use `truncation=True` to truncate examples to a max length. You can give a specific length with `max_length` (e.g. `max_length=45`) or leave max_length to None to truncate to the maximal input size of the model (e.g. 512 for Bert).  If you have pairs of inputs, you can give a specific truncation strategy selected among `truncation='only_first'` (will only truncate the first sentence in the pairs) `truncation='only_second'` (will only truncate the second sentence in the pairs) or `truncation='longest_first'` (will iteratively remove tokens from the longest sentence in the pairs).\n",
            "  FutureWarning,\n"
          ],
          "name": "stderr"
        },
        {
          "output_type": "stream",
          "text": [
            "Hello, what is going on? We should spend time together watching the Olympics. Perhaps I should get some food.\n"
          ],
          "name": "stdout"
        }
      ]
    },
    {
      "cell_type": "markdown",
      "metadata": {
        "id": "RqKneqXvia87"
      },
      "source": [
        "# Styleformer With Happy Transformer "
      ]
    },
    {
      "cell_type": "markdown",
      "metadata": {
        "id": "qLRG9oJzu3hd"
      },
      "source": [
        "https://github.com/EricFillion/happy-transformer"
      ]
    },
    {
      "cell_type": "markdown",
      "metadata": {
        "id": "fhffLuIRtLdW"
      },
      "source": [
        "GitHub Gist: https://gist.github.com/EricFillion/7752b6584591935edb8cfcbad8c2b9ed"
      ]
    },
    {
      "cell_type": "code",
      "metadata": {
        "id": "LJkHQPGsieZs"
      },
      "source": [
        "pip install happytransformer"
      ],
      "execution_count": null,
      "outputs": []
    },
    {
      "cell_type": "code",
      "metadata": {
        "id": "rmVvkItKuR2p"
      },
      "source": [
        "from happytransformer import HappyTextToText"
      ],
      "execution_count": null,
      "outputs": []
    },
    {
      "cell_type": "markdown",
      "metadata": {
        "id": "0bW7LtPgi6F8"
      },
      "source": [
        "## Casual to  Formal"
      ]
    },
    {
      "cell_type": "code",
      "metadata": {
        "id": "K5CHC0w-h3pf",
        "colab": {
          "base_uri": "https://localhost:8080/"
        },
        "outputId": "16309dd3-e069-447e-8388-0cc9fdbbdcbc"
      },
      "source": [
        "happy_c_t_f = HappyTextToText(\"T5\", \"prithivida/informal_to_formal_styletransfer\")"
      ],
      "execution_count": null,
      "outputs": [
        {
          "output_type": "stream",
          "text": [
            "08/02/2021 21:16:15 - INFO - happytransformer.happy_transformer -   Using model: cuda\n"
          ],
          "name": "stderr"
        }
      ]
    },
    {
      "cell_type": "code",
      "metadata": {
        "id": "g3JHItvsh3sU"
      },
      "source": [
        "from happytransformer import TTSettings"
      ],
      "execution_count": null,
      "outputs": []
    },
    {
      "cell_type": "code",
      "metadata": {
        "id": "e7clscAmikmo"
      },
      "source": [
        "top_k_sampling_settings = TTSettings(do_sample=True, top_k=20, temperature=0.5, min_length=1, max_length=100)"
      ],
      "execution_count": null,
      "outputs": []
    },
    {
      "cell_type": "code",
      "metadata": {
        "id": "2epp2uJ7ikpf"
      },
      "source": [
        "prefix_c_t_f = \"transfer Casual to Formal: \""
      ],
      "execution_count": null,
      "outputs": []
    },
    {
      "cell_type": "code",
      "metadata": {
        "id": "7gnEZm28iksH"
      },
      "source": [
        "text_c_t_f = \"I wanna play chess with you as we watch TV\""
      ],
      "execution_count": null,
      "outputs": []
    },
    {
      "cell_type": "code",
      "metadata": {
        "id": "sT7vyGpqiku-"
      },
      "source": [
        "input_c_t_f = prefix_c_t_f + text_c_t_f"
      ],
      "execution_count": null,
      "outputs": []
    },
    {
      "cell_type": "code",
      "metadata": {
        "id": "W6rPZqYAikxK"
      },
      "source": [
        "result_c_t_f = happy_c_t_f.generate_text(input_c_t_f, args=top_k_sampling_settings)"
      ],
      "execution_count": null,
      "outputs": []
    },
    {
      "cell_type": "code",
      "metadata": {
        "id": "JXffn8a0ikzf",
        "colab": {
          "base_uri": "https://localhost:8080/"
        },
        "outputId": "263b0d06-c04b-408a-9dfb-4283cb610bc0"
      },
      "source": [
        "print(result_c_t_f.text)"
      ],
      "execution_count": null,
      "outputs": [
        {
          "output_type": "stream",
          "text": [
            "I would like to play chess with you while we watch television.\n"
          ],
          "name": "stdout"
        }
      ]
    },
    {
      "cell_type": "markdown",
      "metadata": {
        "id": "MVYQ5DnZi8bx"
      },
      "source": [
        "## Formal to Casual"
      ]
    },
    {
      "cell_type": "code",
      "metadata": {
        "id": "6232AUHji-NV",
        "colab": {
          "base_uri": "https://localhost:8080/"
        },
        "outputId": "e5a43376-3ff7-4c6a-f239-1f0a12b7e401"
      },
      "source": [
        "happy_f_t_c = HappyTextToText(\"T5\", \"prithivida/formal_to_informal_styletransfer\")"
      ],
      "execution_count": null,
      "outputs": [
        {
          "output_type": "stream",
          "text": [
            "08/02/2021 21:17:53 - INFO - happytransformer.happy_transformer -   Using model: cuda\n"
          ],
          "name": "stderr"
        }
      ]
    },
    {
      "cell_type": "code",
      "metadata": {
        "id": "zw5vadU1i-Pw"
      },
      "source": [
        "prefix_f_t_c = \"transfer Formal to Casual: \""
      ],
      "execution_count": null,
      "outputs": []
    },
    {
      "cell_type": "code",
      "metadata": {
        "id": "MZn8cffki-SJ"
      },
      "source": [
        "text_f_t_c = \"Shall we have dinner this evening downtown?\""
      ],
      "execution_count": null,
      "outputs": []
    },
    {
      "cell_type": "code",
      "metadata": {
        "id": "out8smdri-VE"
      },
      "source": [
        "input_f_t_c = prefix_f_t_c + text_f_t_c"
      ],
      "execution_count": null,
      "outputs": []
    },
    {
      "cell_type": "code",
      "metadata": {
        "id": "9cV0qNyXjFKi"
      },
      "source": [
        "result_f_t_c = happy_f_t_c.generate_text(input_f_t_c, args=top_k_sampling_settings)"
      ],
      "execution_count": null,
      "outputs": []
    },
    {
      "cell_type": "code",
      "metadata": {
        "id": "l4rlDYlPjFM6",
        "colab": {
          "base_uri": "https://localhost:8080/"
        },
        "outputId": "79268a98-7af9-4c26-a9da-f76a00ae6795"
      },
      "source": [
        "print(result_f_t_c.text)"
      ],
      "execution_count": null,
      "outputs": [
        {
          "output_type": "stream",
          "text": [
            "Have dinner downtown tonight?\n"
          ],
          "name": "stdout"
        }
      ]
    }
  ]
}